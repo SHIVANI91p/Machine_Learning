{
 "cells": [
  {
   "cell_type": "code",
   "execution_count": 1,
   "id": "4297a6a1",
   "metadata": {},
   "outputs": [],
   "source": [
    "#Confidence Interval μ = X̄ ± Z * (σ / √n)   (this is for population Mean )(Z distribution)  when σ is known\n",
    "# X̄  is the sample mean.\n",
    "#Z is the critical value from the standard normal distribution corresponding to your desired level of confidence.\n",
    "#σ is the population standard deviation (if known).\n",
    "#n is the sample size.\n",
    "# 1- α cofidence level\n",
    "\n",
    "# if  σ  is not known then we have to do t test\n",
    "# Confidence Interval = X̄ ± (t * (s / √n)) when σ is not known\n",
    "# t=(X̄-μ)/(s / √n)"
   ]
  },
  {
   "cell_type": "code",
   "execution_count": 10,
   "id": "bf014f1b",
   "metadata": {},
   "outputs": [],
   "source": [
    "# to find t vale\n",
    "import scipy.stats as stats\n",
    "import numpy as np"
   ]
  },
  {
   "cell_type": "code",
   "execution_count": 39,
   "id": "a93cee53",
   "metadata": {},
   "outputs": [
    {
     "data": {
      "text/plain": [
       "1.6448536269514722"
      ]
     },
     "execution_count": 39,
     "metadata": {},
     "output_type": "execute_result"
    }
   ],
   "source": [
    "stats.norm.ppf(0.95)    # for 90%  1+0.90= 1.90/2 =0.95   #  z value"
   ]
  },
  {
   "cell_type": "code",
   "execution_count": 4,
   "id": "ad8713b4",
   "metadata": {},
   "outputs": [
    {
     "data": {
      "text/plain": [
       "1.652546746165939"
      ]
     },
     "execution_count": 4,
     "metadata": {},
     "output_type": "execute_result"
    }
   ],
   "source": [
    "stats.t.ppf((1+0.90)/2,df=199)              # for 90%     # t value"
   ]
  },
  {
   "cell_type": "markdown",
   "id": "4470f52a",
   "metadata": {},
   "source": [
    "## Confidence Interval"
   ]
  },
  {
   "cell_type": "markdown",
   "id": "87cd883c",
   "metadata": {},
   "source": [
    "### Credit Card example"
   ]
  },
  {
   "cell_type": "code",
   "execution_count": 5,
   "id": "d571f30c",
   "metadata": {},
   "outputs": [],
   "source": [
    "# n=140 ,  σ=2500  , X̄=1990   , σ / √n  =211.29   ,μ=2000   s=2833\n",
    "# z = (x̄ – μ) / (σ/√n) z test   ,#μ = X̄ ± Z * (σ / √n) ,  when σ is known"
   ]
  },
  {
   "cell_type": "code",
   "execution_count": 6,
   "id": "ca7aa71b",
   "metadata": {},
   "outputs": [
    {
     "data": {
      "text/plain": [
       "211.28856368212914"
      ]
     },
     "execution_count": 6,
     "metadata": {},
     "output_type": "execute_result"
    }
   ],
   "source": [
    "import numpy as np\n",
    "2500/np.sqrt(140)"
   ]
  },
  {
   "cell_type": "code",
   "execution_count": 7,
   "id": "a0569972",
   "metadata": {},
   "outputs": [],
   "source": [
    "from scipy import stats"
   ]
  },
  {
   "cell_type": "code",
   "execution_count": 40,
   "id": "fb459257",
   "metadata": {},
   "outputs": [
    {
     "data": {
      "text/plain": [
       "1.959963984540054"
      ]
     },
     "execution_count": 40,
     "metadata": {},
     "output_type": "execute_result"
    }
   ],
   "source": [
    "stats.norm.ppf(0.975)  #for 95% =0.95 remaining 5%=0.05  0.05/2=0.025 so 0.90+0.0025= 0.9754 OR  1+0.95= 1.95/2 =0.975 # z value"
   ]
  },
  {
   "cell_type": "code",
   "execution_count": 8,
   "id": "ea0b79bb",
   "metadata": {},
   "outputs": [
    {
     "data": {
      "text/plain": [
       "1575.8927290000001"
      ]
     },
     "execution_count": 8,
     "metadata": {},
     "output_type": "execute_result"
    }
   ],
   "source": [
    "C_I=(1990-(1.9599*211.29))                      #μ = X̄ ± Z * (σ / √n) ,  when σ is known\n",
    "C_I                 # so the range is between [1575.8716 -2404.107271 ]  for 95%"
   ]
  },
  {
   "cell_type": "code",
   "execution_count": 9,
   "id": "c5400e17",
   "metadata": {},
   "outputs": [
    {
     "data": {
      "text/plain": [
       "2404.107271"
      ]
     },
     "execution_count": 9,
     "metadata": {},
     "output_type": "execute_result"
    }
   ],
   "source": [
    "C_I=(1990+(1.9599*211.29))\n",
    "C_I"
   ]
  },
  {
   "cell_type": "code",
   "execution_count": 4,
   "id": "3f24913a",
   "metadata": {},
   "outputs": [
    {
     "data": {
      "text/plain": [
       "1.6448536269514722"
      ]
     },
     "execution_count": 4,
     "metadata": {},
     "output_type": "execute_result"
    }
   ],
   "source": [
    "stats.norm.ppf(0.95)    # for 90% =0.90 remaining 10%=0.1 , 0.1/2=0.05 so 0.90+0.05= 0.95 OR  1+0.90= 1.90/2 =0.95    #z value"
   ]
  },
  {
   "cell_type": "code",
   "execution_count": 10,
   "id": "1d72f256",
   "metadata": {},
   "outputs": [
    {
     "data": {
      "text/plain": [
       "1642.63924"
      ]
     },
     "execution_count": 10,
     "metadata": {},
     "output_type": "execute_result"
    }
   ],
   "source": [
    "C_I=(1990-(1.644*211.29))              \n",
    "C_I                           # so the range is beteen[1642.42795  - 2337.5720499999998 ] for 90%"
   ]
  },
  {
   "cell_type": "code",
   "execution_count": 11,
   "id": "5a063c1b",
   "metadata": {},
   "outputs": [
    {
     "data": {
      "text/plain": [
       "2337.36076"
      ]
     },
     "execution_count": 11,
     "metadata": {},
     "output_type": "execute_result"
    }
   ],
   "source": [
    "C_I=(1990+(1.644*211.29))\n",
    "C_I"
   ]
  },
  {
   "cell_type": "code",
   "execution_count": 5,
   "id": "847d994b",
   "metadata": {},
   "outputs": [
    {
     "data": {
      "text/plain": [
       "2.5758293035489004"
      ]
     },
     "execution_count": 5,
     "metadata": {},
     "output_type": "execute_result"
    }
   ],
   "source": [
    "stats.norm.ppf(0.995)  ## for 99% =0.99 remaining 1%=0.01 ,0.01/2=0.005 so 0.99+0.005=0.95 OR  1+0.90= 1.90/2 =0.95 #z value"
   ]
  },
  {
   "cell_type": "code",
   "execution_count": 6,
   "id": "3bd89f79",
   "metadata": {},
   "outputs": [
    {
     "data": {
      "text/plain": [
       "1445.92825"
      ]
     },
     "execution_count": 6,
     "metadata": {},
     "output_type": "execute_result"
    }
   ],
   "source": [
    "C_I=(1990-(2.575*211.29))              \n",
    "C_I                             ## so the range is beteen[1445.92825 - 2534.07175 ] for 99%"
   ]
  },
  {
   "cell_type": "code",
   "execution_count": 7,
   "id": "7d9a2cd3",
   "metadata": {},
   "outputs": [
    {
     "data": {
      "text/plain": [
       "2534.07175"
      ]
     },
     "execution_count": 7,
     "metadata": {},
     "output_type": "execute_result"
    }
   ],
   "source": [
    "C_I=(1990+(2.575*211.29))              \n",
    "C_I             "
   ]
  },
  {
   "cell_type": "code",
   "execution_count": 38,
   "id": "fa6558cf",
   "metadata": {},
   "outputs": [
    {
     "name": "stdout",
     "output_type": "stream",
     "text": [
      "Z-value for a 90% confidence interval: 1.6448536269514722\n"
     ]
    }
   ],
   "source": [
    "#Function to fine z value\n",
    " \n",
    "from scipy import stats\n",
    "\n",
    "confidence_level = 0.9# For a 90% confidence interval\n",
    "alpha = 1 - confidence_level\n",
    "\n",
    "# Calculate the Z-value for the desired confidence level\n",
    "z_value = stats.norm.ppf(1 - alpha/2)\n",
    "\n",
    "print(f'Z-value for a 90% confidence interval: {z_value}')"
   ]
  },
  {
   "cell_type": "code",
   "execution_count": 38,
   "id": "3b5ca348",
   "metadata": {},
   "outputs": [
    {
     "data": {
      "text/plain": [
       "(1575.8820248378292, 2404.1179751621708)"
      ]
     },
     "execution_count": 38,
     "metadata": {},
     "output_type": "execute_result"
    }
   ],
   "source": [
    "stats.norm.interval(0.95,loc=1990,scale=2500/np.sqrt(140))    # without formula finding Confidence Interval direct method \n",
    "                                                     #stats.norm.interval(95%=0.95,X̄,(σ / √n)"
   ]
  },
  {
   "cell_type": "markdown",
   "id": "61b25ccf",
   "metadata": {},
   "source": [
    "### Confidence Interval Using t- Distribution"
   ]
  },
  {
   "cell_type": "code",
   "execution_count": 36,
   "id": "affc4efe",
   "metadata": {},
   "outputs": [
    {
     "data": {
      "text/plain": [
       "-0.04176586058555736"
      ]
     },
     "execution_count": 36,
     "metadata": {},
     "output_type": "execute_result"
    }
   ],
   "source": [
    "#t = (x̄ – μ) / (s/√n)  x̄ is the sample mean ,μ is the population mean ,s is the standard deviation\n",
    "#of sample ,n is the size of the given sample\n",
    "# n=140 ,  σ=2500  , X̄=1990   , s / √n  =239.43 ,μ=2000   s=2833\n",
    "## X̄ ± (t * (s / √n)) when σ is not known  (t distibution)"
   ]
  },
  {
   "cell_type": "code",
   "execution_count": 18,
   "id": "b387f772",
   "metadata": {},
   "outputs": [
    {
     "data": {
      "text/plain": [
       "1.977177724476122"
      ]
     },
     "execution_count": 18,
     "metadata": {},
     "output_type": "execute_result"
    }
   ],
   "source": [
    "# Calculate the critical t-value\n",
    "t_value = stats.t.ppf(0.975, df=139)    #df= degree of fredom (n-1)  i.e(140-1)  139\n",
    "t_value                      # #for 95% =0.95 remaining 5%=0.05  0.05/2=0.025 so 0.90+0.0025= 0.9754 OR  1+0.95= 1.95/2 =0.975"
   ]
  },
  {
   "cell_type": "code",
   "execution_count": 27,
   "id": "551bd242",
   "metadata": {},
   "outputs": [],
   "source": [
    "CI=1990-(1.977*2833/np.sqrt(140))     # X̄ ± (t * (s / √n)) when σ is not known  (t distibution)"
   ]
  },
  {
   "cell_type": "code",
   "execution_count": 28,
   "id": "1c4e1ddf",
   "metadata": {},
   "outputs": [
    {
     "data": {
      "text/plain": [
       "1516.642539879208"
      ]
     },
     "execution_count": 28,
     "metadata": {},
     "output_type": "execute_result"
    }
   ],
   "source": [
    "CI"
   ]
  },
  {
   "cell_type": "code",
   "execution_count": 29,
   "id": "859e2986",
   "metadata": {},
   "outputs": [
    {
     "data": {
      "text/plain": [
       "2463.357460120792"
      ]
     },
     "execution_count": 29,
     "metadata": {},
     "output_type": "execute_result"
    }
   ],
   "source": [
    "CI=1990+(1.977*2833/np.sqrt(140))\n",
    "CI                                       #95% confidence  interval for balace is[ 1516.642539879208 -  2463.357460120792 ]"
   ]
  },
  {
   "cell_type": "code",
   "execution_count": 22,
   "id": "eedf65f7",
   "metadata": {},
   "outputs": [
    {
     "data": {
      "text/plain": [
       "1.6558898677725957"
      ]
     },
     "execution_count": 22,
     "metadata": {},
     "output_type": "execute_result"
    }
   ],
   "source": [
    "t_value = stats.t.ppf(0.95, df=139)   # for 90% =0.90 remaining 10%=0.1 , 0.1/2=0.05 so 0.90+0.05= 0.95 OR  1+0.90= 1.90/2 =0.95\n",
    "t_value"
   ]
  },
  {
   "cell_type": "code",
   "execution_count": 23,
   "id": "6b964d42",
   "metadata": {},
   "outputs": [
    {
     "data": {
      "text/plain": [
       "1594.9368693984286"
      ]
     },
     "execution_count": 23,
     "metadata": {},
     "output_type": "execute_result"
    }
   ],
   "source": [
    "CI=1990-(1.65*2833/np.sqrt(140))\n",
    "CI                                    # #90% confidence  interval for balace is[1594.9368693984286 - 2385.063130601571  ]"
   ]
  },
  {
   "cell_type": "code",
   "execution_count": 24,
   "id": "808efb21",
   "metadata": {},
   "outputs": [
    {
     "data": {
      "text/plain": [
       "2385.063130601571"
      ]
     },
     "execution_count": 24,
     "metadata": {},
     "output_type": "execute_result"
    }
   ],
   "source": [
    "CI=1990+(1.65*2833/np.sqrt(140))\n",
    "CI"
   ]
  },
  {
   "cell_type": "code",
   "execution_count": 31,
   "id": "961bebff",
   "metadata": {},
   "outputs": [
    {
     "data": {
      "text/plain": [
       "(1516.5999869168315, 2463.4000130831682)"
      ]
     },
     "execution_count": 31,
     "metadata": {},
     "output_type": "execute_result"
    }
   ],
   "source": [
    "# T method  direct fromula to find Cofidence Interval                   # #stats.norm.interval(95%=0.95,X̄,(σ / √n)\n",
    "stats.t.interval(0.95,df = 139, loc = 1990,scale = 2833/np.sqrt(140))   # without formula finding Confidence Interval ,loc=mean"
   ]
  },
  {
   "cell_type": "markdown",
   "id": "5cb04720",
   "metadata": {},
   "source": [
    "### Calculating CI for GLAXO AND BEML"
   ]
  },
  {
   "cell_type": "code",
   "execution_count": 20,
   "id": "fec518a2",
   "metadata": {},
   "outputs": [],
   "source": [
    "import pandas as pd\n",
    "import numpy as np"
   ]
  },
  {
   "cell_type": "code",
   "execution_count": 21,
   "id": "25945a15",
   "metadata": {},
   "outputs": [],
   "source": [
    "glaxo_df=pd.read_csv('C:\\\\Users\\\\pawar\\\\Data science\\\\glaxo_df.csv')"
   ]
  },
  {
   "cell_type": "code",
   "execution_count": 22,
   "id": "a4ca1853",
   "metadata": {},
   "outputs": [
    {
     "data": {
      "text/html": [
       "<div>\n",
       "<style scoped>\n",
       "    .dataframe tbody tr th:only-of-type {\n",
       "        vertical-align: middle;\n",
       "    }\n",
       "\n",
       "    .dataframe tbody tr th {\n",
       "        vertical-align: top;\n",
       "    }\n",
       "\n",
       "    .dataframe thead th {\n",
       "        text-align: right;\n",
       "    }\n",
       "</style>\n",
       "<table border=\"1\" class=\"dataframe\">\n",
       "  <thead>\n",
       "    <tr style=\"text-align: right;\">\n",
       "      <th></th>\n",
       "      <th>Date</th>\n",
       "      <th>Date.1</th>\n",
       "      <th>Close</th>\n",
       "      <th>gain</th>\n",
       "    </tr>\n",
       "  </thead>\n",
       "  <tbody>\n",
       "    <tr>\n",
       "      <th>0</th>\n",
       "      <td>2010-01-05</td>\n",
       "      <td>2010-01-05</td>\n",
       "      <td>1616.80</td>\n",
       "      <td>-0.005444</td>\n",
       "    </tr>\n",
       "    <tr>\n",
       "      <th>1</th>\n",
       "      <td>2010-01-06</td>\n",
       "      <td>2010-01-06</td>\n",
       "      <td>1638.50</td>\n",
       "      <td>0.013422</td>\n",
       "    </tr>\n",
       "    <tr>\n",
       "      <th>2</th>\n",
       "      <td>2010-01-07</td>\n",
       "      <td>2010-01-07</td>\n",
       "      <td>1648.70</td>\n",
       "      <td>0.006225</td>\n",
       "    </tr>\n",
       "    <tr>\n",
       "      <th>3</th>\n",
       "      <td>2010-01-08</td>\n",
       "      <td>2010-01-08</td>\n",
       "      <td>1639.80</td>\n",
       "      <td>-0.005398</td>\n",
       "    </tr>\n",
       "    <tr>\n",
       "      <th>4</th>\n",
       "      <td>2010-01-11</td>\n",
       "      <td>2010-01-11</td>\n",
       "      <td>1629.45</td>\n",
       "      <td>-0.006312</td>\n",
       "    </tr>\n",
       "  </tbody>\n",
       "</table>\n",
       "</div>"
      ],
      "text/plain": [
       "         Date      Date.1    Close      gain\n",
       "0  2010-01-05  2010-01-05  1616.80 -0.005444\n",
       "1  2010-01-06  2010-01-06  1638.50  0.013422\n",
       "2  2010-01-07  2010-01-07  1648.70  0.006225\n",
       "3  2010-01-08  2010-01-08  1639.80 -0.005398\n",
       "4  2010-01-11  2010-01-11  1629.45 -0.006312"
      ]
     },
     "execution_count": 22,
     "metadata": {},
     "output_type": "execute_result"
    }
   ],
   "source": [
    "glaxo_df.head()"
   ]
  },
  {
   "cell_type": "code",
   "execution_count": 23,
   "id": "2c54440d",
   "metadata": {},
   "outputs": [],
   "source": [
    "beml_df=pd.read_csv('C:\\\\Users\\\\pawar\\\\Data science\\\\beml_df.csv')"
   ]
  },
  {
   "cell_type": "code",
   "execution_count": 24,
   "id": "38e4a44b",
   "metadata": {},
   "outputs": [
    {
     "data": {
      "text/html": [
       "<div>\n",
       "<style scoped>\n",
       "    .dataframe tbody tr th:only-of-type {\n",
       "        vertical-align: middle;\n",
       "    }\n",
       "\n",
       "    .dataframe tbody tr th {\n",
       "        vertical-align: top;\n",
       "    }\n",
       "\n",
       "    .dataframe thead th {\n",
       "        text-align: right;\n",
       "    }\n",
       "</style>\n",
       "<table border=\"1\" class=\"dataframe\">\n",
       "  <thead>\n",
       "    <tr style=\"text-align: right;\">\n",
       "      <th></th>\n",
       "      <th>Date</th>\n",
       "      <th>Date.1</th>\n",
       "      <th>Close</th>\n",
       "      <th>gain</th>\n",
       "    </tr>\n",
       "  </thead>\n",
       "  <tbody>\n",
       "    <tr>\n",
       "      <th>0</th>\n",
       "      <td>2010-01-05</td>\n",
       "      <td>2010-01-05</td>\n",
       "      <td>1134.60</td>\n",
       "      <td>-0.000881</td>\n",
       "    </tr>\n",
       "    <tr>\n",
       "      <th>1</th>\n",
       "      <td>2010-01-06</td>\n",
       "      <td>2010-01-06</td>\n",
       "      <td>1139.60</td>\n",
       "      <td>0.004407</td>\n",
       "    </tr>\n",
       "    <tr>\n",
       "      <th>2</th>\n",
       "      <td>2010-01-07</td>\n",
       "      <td>2010-01-07</td>\n",
       "      <td>1144.15</td>\n",
       "      <td>0.003993</td>\n",
       "    </tr>\n",
       "    <tr>\n",
       "      <th>3</th>\n",
       "      <td>2010-01-08</td>\n",
       "      <td>2010-01-08</td>\n",
       "      <td>1144.05</td>\n",
       "      <td>-0.000087</td>\n",
       "    </tr>\n",
       "    <tr>\n",
       "      <th>4</th>\n",
       "      <td>2010-01-11</td>\n",
       "      <td>2010-01-11</td>\n",
       "      <td>1137.00</td>\n",
       "      <td>-0.006162</td>\n",
       "    </tr>\n",
       "  </tbody>\n",
       "</table>\n",
       "</div>"
      ],
      "text/plain": [
       "         Date      Date.1    Close      gain\n",
       "0  2010-01-05  2010-01-05  1134.60 -0.000881\n",
       "1  2010-01-06  2010-01-06  1139.60  0.004407\n",
       "2  2010-01-07  2010-01-07  1144.15  0.003993\n",
       "3  2010-01-08  2010-01-08  1144.05 -0.000087\n",
       "4  2010-01-11  2010-01-11  1137.00 -0.006162"
      ]
     },
     "execution_count": 24,
     "metadata": {},
     "output_type": "execute_result"
    }
   ],
   "source": [
    "beml_df.head()"
   ]
  },
  {
   "cell_type": "code",
   "execution_count": 25,
   "id": "e8dae5ac",
   "metadata": {},
   "outputs": [
    {
     "name": "stdout",
     "output_type": "stream",
     "text": [
      "mean 0.0004\n",
      "std 0.0134\n"
     ]
    }
   ],
   "source": [
    "print(\"mean\",round(glaxo_df.gain.mean(),4))\n",
    "print( \"std\",round(glaxo_df.gain.std(),4))"
   ]
  },
  {
   "cell_type": "code",
   "execution_count": 26,
   "id": "e409fd97",
   "metadata": {},
   "outputs": [
    {
     "name": "stdout",
     "output_type": "stream",
     "text": [
      "mean 0.0003\n",
      "std 0.0264\n"
     ]
    }
   ],
   "source": [
    "print(\"mean\",round(beml_df.gain.mean(),4))\n",
    "print( \"std\",round(beml_df.gain.std(),4))"
   ]
  },
  {
   "cell_type": "markdown",
   "id": "2f83c166",
   "metadata": {},
   "source": [
    "## Confidence Interval"
   ]
  },
  {
   "cell_type": "code",
   "execution_count": 27,
   "id": "b444e759",
   "metadata": {},
   "outputs": [
    {
     "name": "stdout",
     "output_type": "stream",
     "text": [
      "Mean at 95% confidence interval is: [-0.0258  0.0266]\n"
     ]
    }
   ],
   "source": [
    "glaxo_df_CI=stats.norm.interval(0.95,loc=glaxo_df.gain.mean(),scale=glaxo_df.gain.std())   #0.95 is confidence level\n",
    "print('Mean at 95% confidence interval is:',np.round(glaxo_df_CI,4))"
   ]
  },
  {
   "cell_type": "code",
   "execution_count": 28,
   "id": "5a217516",
   "metadata": {},
   "outputs": [
    {
     "name": "stdout",
     "output_type": "stream",
     "text": [
      "Mean at 95% confidence interval is: [-0.0515  0.0521]\n"
     ]
    }
   ],
   "source": [
    "beml_df_CI=stats.norm.interval(0.95,loc=beml_df.gain.mean(),scale=beml_df.gain.std())\n",
    "print('Mean at 95% confidence interval is:',np.round(beml_df_CI,4))"
   ]
  },
  {
   "cell_type": "markdown",
   "id": "7dc3655a",
   "metadata": {},
   "source": [
    "### Confidence Interval Using T-distribution"
   ]
  },
  {
   "cell_type": "code",
   "execution_count": 29,
   "id": "dbf1bc24",
   "metadata": {},
   "outputs": [
    {
     "data": {
      "text/plain": [
       "(-0.025818392673533995, 0.026590474838718584)"
      ]
     },
     "execution_count": 29,
     "metadata": {},
     "output_type": "execute_result"
    }
   ],
   "source": [
    "glaxo_df_CI=stats.t.interval(0.95,1737,loc=glaxo_df.gain.mean(),scale=glaxo_df.gain.std()) #df=1738-1 =1737\n",
    "glaxo_df_CI"
   ]
  },
  {
   "cell_type": "code",
   "execution_count": 30,
   "id": "7e99f139",
   "metadata": {},
   "outputs": [
    {
     "data": {
      "text/plain": [
       "(-0.05156885177136772, 0.05211034792948219)"
      ]
     },
     "execution_count": 30,
     "metadata": {},
     "output_type": "execute_result"
    }
   ],
   "source": [
    "beml_df_CI=stats.t.interval(0.95,1737, loc=beml_df.gain.mean(),scale=beml_df.gain.std())\n",
    "beml_df_CI"
   ]
  },
  {
   "cell_type": "markdown",
   "id": "ea1d9999",
   "metadata": {},
   "source": [
    "# Excercise  To find Cinfidence Interval"
   ]
  },
  {
   "cell_type": "code",
   "execution_count": 37,
   "id": "d44678fb",
   "metadata": {},
   "outputs": [
    {
     "name": "stdout",
     "output_type": "stream",
     "text": [
      "(957.5300619724538, 1042.469938027546)\n",
      "(949.3939475247336, 1050.6060524752663)\n",
      "(933.4923733645471, 1066.5076266354529)\n"
     ]
    }
   ],
   "source": [
    "n=60 \n",
    "mean=1000\n",
    "sd=200\n",
    "print(stats.norm.interval(0.90,mean,scale=200/np.sqrt(n)))\n",
    "print(stats.norm.interval(0.95,mean,scale=200/np.sqrt(n)))\n",
    "print(stats.norm.interval(0.99,mean,scale=200/np.sqrt(n)))"
   ]
  },
  {
   "cell_type": "code",
   "execution_count": null,
   "id": "d645c2f8",
   "metadata": {},
   "outputs": [],
   "source": []
  },
  {
   "cell_type": "code",
   "execution_count": null,
   "id": "e1e065f3",
   "metadata": {},
   "outputs": [],
   "source": []
  },
  {
   "cell_type": "code",
   "execution_count": null,
   "id": "12f627a7",
   "metadata": {},
   "outputs": [],
   "source": []
  }
 ],
 "metadata": {
  "kernelspec": {
   "display_name": "Python 3 (ipykernel)",
   "language": "python",
   "name": "python3"
  },
  "language_info": {
   "codemirror_mode": {
    "name": "ipython",
    "version": 3
   },
   "file_extension": ".py",
   "mimetype": "text/x-python",
   "name": "python",
   "nbconvert_exporter": "python",
   "pygments_lexer": "ipython3",
   "version": "3.11.4"
  }
 },
 "nbformat": 4,
 "nbformat_minor": 5
}
