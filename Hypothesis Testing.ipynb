{
 "cells": [
  {
   "cell_type": "markdown",
   "id": "8d3335fa",
   "metadata": {},
   "source": [
    "# Super Market example"
   ]
  },
  {
   "cell_type": "code",
   "execution_count": 8,
   "id": "276d83aa",
   "metadata": {},
   "outputs": [],
   "source": [
    "import pandas as pd\n",
    "import numpy as np\n",
    "from scipy import stats"
   ]
  },
  {
   "cell_type": "code",
   "execution_count": null,
   "id": "089029e1",
   "metadata": {},
   "outputs": [],
   "source": [
    "#  x̄=130 ,n=80 , s=40  ,μ=120  \n",
    "# H0: μ<=120  H1(Ha)=μ>120  action will be taken here means  loyalty program be launched. "
   ]
  },
  {
   "cell_type": "code",
   "execution_count": 157,
   "id": "f79db475",
   "metadata": {},
   "outputs": [
    {
     "data": {
      "text/plain": [
       "2.23606797749979"
      ]
     },
     "execution_count": 157,
     "metadata": {},
     "output_type": "execute_result"
    }
   ],
   "source": [
    "t=(130-120)/(40/np.sqrt(80))  # t = (x̄ –μ) / (s/√n)\n"
   ]
  },
  {
   "cell_type": "code",
   "execution_count": 158,
   "id": "74afab40",
   "metadata": {},
   "outputs": [
    {
     "data": {
      "text/plain": [
       "0.014292908802574056"
      ]
     },
     "execution_count": 158,
     "metadata": {},
     "output_type": "execute_result"
    }
   ],
   "source": [
    "p=1-(stats.t.cdf(2.23,df=79))  # one way of finding p value \n",
    "p                         # 0.014<0.05  H0 rejected and H1 accepted mean loyalty program be launched. "
   ]
  },
  {
   "cell_type": "code",
   "execution_count": 161,
   "id": "37b8bed4",
   "metadata": {},
   "outputs": [
    {
     "data": {
      "text/plain": [
       "0.03036100710341365"
      ]
     },
     "execution_count": 161,
     "metadata": {},
     "output_type": "execute_result"
    }
   ],
   "source": [
    "p=2*stats.t.cdf(-2.23,49)  #Another way of finding p value   this is for  2 tail test           \n",
    "p                  # 0.03<0.05 H0 rejected and H1 accepted mean loyalty program be launched. "
   ]
  },
  {
   "cell_type": "code",
   "execution_count": null,
   "id": "d607910a",
   "metadata": {},
   "outputs": [],
   "source": []
  },
  {
   "cell_type": "code",
   "execution_count": null,
   "id": "4e3d75bc",
   "metadata": {},
   "outputs": [],
   "source": []
  },
  {
   "cell_type": "markdown",
   "id": "8ca5faea",
   "metadata": {},
   "source": [
    "# Call Center example"
   ]
  },
  {
   "cell_type": "code",
   "execution_count": 119,
   "id": "4cb6fad0",
   "metadata": {
    "collapsed": true
   },
   "outputs": [
    {
     "data": {
      "text/plain": [
       "1.4142135623730943"
      ]
     },
     "execution_count": 119,
     "metadata": {},
     "output_type": "execute_result"
    }
   ],
   "source": [
    "import numpy as np\n",
    "from scipy import stats\n",
    "#H0:μ=4 (normal)No Action    H1(Ha) :μ!=4  #Action will be taken here\n",
    "#   μ<0.05           μ>0.05    \n",
    "t=(4.6-4)/(3/np.sqrt(50)) # t value for x bar x̄=4.6, mu=4, s=3, n=50  ,  t = (x̄ –μcvμ) / (s/√n)\n",
    "t"
   ]
  },
  {
   "cell_type": "code",
   "execution_count": 159,
   "id": "f93fa258",
   "metadata": {
    "collapsed": true
   },
   "outputs": [
    {
     "data": {
      "text/plain": [
       "0.08390665545840648"
      ]
     },
     "execution_count": 159,
     "metadata": {},
     "output_type": "execute_result"
    }
   ],
   "source": [
    "#p=2*stats.t.cdf(-1.4,49)  # this will add both side's p values\n",
    "p=1-stats.t.cdf(1.4,49)          # this is to find p value           (50-1)=49 degree of freedom\n",
    "p                                # 0.08>0.05  accept H0"
   ]
  },
  {
   "cell_type": "code",
   "execution_count": 92,
   "id": "8d08edfe",
   "metadata": {
    "collapsed": true
   },
   "outputs": [
    {
     "data": {
      "text/plain": [
       "-0.7071067811865471"
      ]
     },
     "execution_count": 92,
     "metadata": {},
     "output_type": "execute_result"
    }
   ],
   "source": [
    "t=(3.7-4)/(3/np.sqrt(50)) # t value for x bar x̄=3.7\n",
    "t"
   ]
  },
  {
   "cell_type": "code",
   "execution_count": 146,
   "id": "37a17f8f",
   "metadata": {
    "collapsed": true
   },
   "outputs": [
    {
     "data": {
      "text/plain": [
       "0.24361879477491932"
      ]
     },
     "execution_count": 146,
     "metadata": {},
     "output_type": "execute_result"
    }
   ],
   "source": [
    "#p=2*stats.t.cdf(-0.70,49) \n",
    "p=1-stats.t.cdf(0.7,49)    \n",
    "p    "
   ]
  },
  {
   "cell_type": "code",
   "execution_count": 99,
   "id": "2cd1781c",
   "metadata": {
    "collapsed": true
   },
   "outputs": [
    {
     "data": {
      "text/plain": [
       "-0.4714045207910321"
      ]
     },
     "execution_count": 99,
     "metadata": {},
     "output_type": "execute_result"
    }
   ],
   "source": [
    "t=(3.8-4)/(3/np.sqrt(50)) # t value for x bar x̄=3.8\n",
    "t"
   ]
  },
  {
   "cell_type": "code",
   "execution_count": 147,
   "id": "3f906a09",
   "metadata": {
    "collapsed": true
   },
   "outputs": [
    {
     "data": {
      "text/plain": [
       "0.3202200747792656"
      ]
     },
     "execution_count": 147,
     "metadata": {},
     "output_type": "execute_result"
    }
   ],
   "source": [
    "p=2*stats.t.cdf(-0.47,49) \n",
    "p=1-stats.t.cdf(0.47,49)        \n",
    "p   "
   ]
  },
  {
   "cell_type": "code",
   "execution_count": 154,
   "id": "001958e4",
   "metadata": {
    "collapsed": true
   },
   "outputs": [
    {
     "data": {
      "text/plain": [
       "-0.23570226039551606"
      ]
     },
     "execution_count": 154,
     "metadata": {},
     "output_type": "execute_result"
    }
   ],
   "source": [
    "t=(3.9-4)/(3/np.sqrt(50)) # t value for x bar x̄=3.9\n",
    "t"
   ]
  },
  {
   "cell_type": "code",
   "execution_count": 155,
   "id": "9d62dae4",
   "metadata": {
    "collapsed": true
   },
   "outputs": [
    {
     "data": {
      "text/plain": [
       "0.4095246269566334"
      ]
     },
     "execution_count": 155,
     "metadata": {},
     "output_type": "execute_result"
    }
   ],
   "source": [
    "#p=2*stats.t.cdf(-0.23,49) \n",
    "p=1-stats.t.cdf(0.23,49)        \n",
    "p   "
   ]
  },
  {
   "cell_type": "code",
   "execution_count": 107,
   "id": "76fa0cc2",
   "metadata": {
    "collapsed": true
   },
   "outputs": [
    {
     "data": {
      "text/plain": [
       "-1.1785113019775793"
      ]
     },
     "execution_count": 107,
     "metadata": {},
     "output_type": "execute_result"
    }
   ],
   "source": [
    "t=(3.5-4)/(3/np.sqrt(50)) # t value for x bar x̄=3.5\n",
    "t"
   ]
  },
  {
   "cell_type": "code",
   "execution_count": 111,
   "id": "1db8c8a4",
   "metadata": {
    "collapsed": true
   },
   "outputs": [
    {
     "data": {
      "text/plain": [
       "0.12383019928728944"
      ]
     },
     "execution_count": 111,
     "metadata": {},
     "output_type": "execute_result"
    }
   ],
   "source": [
    "#p=2*stats.t.cdf(-1.17,49) \n",
    "p=1-stats.t.cdf(1.17,49)        \n",
    "p   "
   ]
  },
  {
   "cell_type": "code",
   "execution_count": 112,
   "id": "1c20d927",
   "metadata": {
    "collapsed": true
   },
   "outputs": [
    {
     "data": {
      "text/plain": [
       "0.4714045207910321"
      ]
     },
     "execution_count": 112,
     "metadata": {},
     "output_type": "execute_result"
    }
   ],
   "source": [
    "t=(4.2-4)/(3/np.sqrt(50)) # t value for x bar x̄=4.2\n",
    "t"
   ]
  },
  {
   "cell_type": "code",
   "execution_count": 116,
   "id": "0f041ad1",
   "metadata": {
    "collapsed": true
   },
   "outputs": [
    {
     "data": {
      "text/plain": [
       "0.3202200747792656"
      ]
     },
     "execution_count": 116,
     "metadata": {},
     "output_type": "execute_result"
    }
   ],
   "source": [
    "#p=2*stats.t.cdf(-0.47,49) \n",
    "p=1-stats.t.cdf(0.47,49)        \n",
    "p"
   ]
  },
  {
   "cell_type": "markdown",
   "id": "5e6683de",
   "metadata": {},
   "source": [
    "# One tail test\n",
    "#Ex. An outbreak of Salmonella-related illness was attributed to ice cream produced at a certain factory. Scientists measured the level of Salmonella in 9 randomly sampled batches of ice cream. The levels (in MPN/g) were 0.593, 0.142, 0.329, 0.691, 0.231, 0.793, 0.519, 0.392, 0.418\n",
    "\n",
    " #Is there evidence that the mean level of Salmonella in the ice cream is greater than 0.3 MPN/g?"
   ]
  },
  {
   "cell_type": "code",
   "execution_count": null,
   "id": "2133bd19",
   "metadata": {},
   "outputs": [],
   "source": [
    "#>,<(one tail),one sample\n",
    "\n",
    "# H0 : μ<=0.3 factory dont close    H1(Ha): μ>0.3 factory will close"
   ]
  },
  {
   "cell_type": "code",
   "execution_count": 1,
   "id": "0545059d",
   "metadata": {},
   "outputs": [],
   "source": [
    "# Ice-cream factory example\n",
    "import pandas as pd\n",
    "from scipy import stats\n",
    "\n",
    "data=pd.Series([0.593, 0.142, 0.329, 0.691, 0.231, 0.793, 0.519, 0.392, 0.418])"
   ]
  },
  {
   "cell_type": "code",
   "execution_count": 2,
   "id": "7e46208a",
   "metadata": {},
   "outputs": [
    {
     "data": {
      "text/plain": [
       "0    0.593\n",
       "1    0.142\n",
       "2    0.329\n",
       "3    0.691\n",
       "4    0.231\n",
       "5    0.793\n",
       "6    0.519\n",
       "7    0.392\n",
       "8    0.418\n",
       "dtype: float64"
      ]
     },
     "execution_count": 2,
     "metadata": {},
     "output_type": "execute_result"
    }
   ],
   "source": [
    "data"
   ]
  },
  {
   "cell_type": "code",
   "execution_count": 3,
   "id": "951d9b64",
   "metadata": {},
   "outputs": [
    {
     "data": {
      "text/plain": [
       "0.05853032968489765"
      ]
     },
     "execution_count": 3,
     "metadata": {},
     "output_type": "execute_result"
    }
   ],
   "source": [
    "p=stats.ttest_1samp(data,0.3)[1] #  μ=0.3, index of p-value is 1, so [1] is given\n",
    "# pvalue=0.05853032968489765 here, p = p1+p2     \n",
    "p            #stats.ttest_1samp method name this function gives addition of both side p value(p = p1+p2)"
   ]
  },
  {
   "cell_type": "code",
   "execution_count": 4,
   "id": "b96bb4f0",
   "metadata": {},
   "outputs": [
    {
     "data": {
      "text/plain": [
       "TtestResult(statistic=2.2050588385131595, pvalue=0.05853032968489765, df=8)"
      ]
     },
     "execution_count": 4,
     "metadata": {},
     "output_type": "execute_result"
    }
   ],
   "source": [
    "stats.ttest_1samp(data,0.3) # this command always gives you 2 tail p-value\n",
    "# t-value=2.2050588385131595 and pvalue=0.05853032968489765 here, p = p1+p2\n",
    "# index of t-value is 0 and p-value is 1 "
   ]
  },
  {
   "cell_type": "code",
   "execution_count": 5,
   "id": "3e680556",
   "metadata": {},
   "outputs": [
    {
     "data": {
      "text/plain": [
       "0.029265164842448826"
      ]
     },
     "execution_count": 5,
     "metadata": {},
     "output_type": "execute_result"
    }
   ],
   "source": [
    "#As this is a one tail test p value so divide by 2 to get final p-value\n",
    "p_value= p/2   # by default the p value given is 2 tain so in case of ona tail tast we have divide tha p value by 2\n",
    "p_value\n",
    "# Null Hypo. is Mu<=0.3, Alter. Hypo. is Mu>0.3, \n",
    "# Alfa = 0.05, P-value we got is 0.029 So p<alfa. So reject Null Hypo.\n",
    "# So go for Alt. Hypo.\n",
    "# interpret it: As mean value Mu >0.3 factory is causing problem."
   ]
  },
  {
   "cell_type": "code",
   "execution_count": 6,
   "id": "8416d9f9",
   "metadata": {},
   "outputs": [
    {
     "name": "stdout",
     "output_type": "stream",
     "text": [
      "Reject Null Hypothesis :Ice-cream Factory is cuasing the Problem\n"
     ]
    }
   ],
   "source": [
    "#Conditional Statement\n",
    "if p_value<0.05:\n",
    "    print(\"Reject Null Hypothesis :Ice-cream Factory is cuasing the Problem\")\n",
    "else:\n",
    "    print(\" Fail to Reject Null Hypothesis :Ice-cream Factory isnot cuasing the Problem\")\n"
   ]
  },
  {
   "cell_type": "markdown",
   "id": "1cdfe1fe",
   "metadata": {},
   "source": [
    "# Two Tail test\n",
    "#Ex. 6 subjects were given a drug (treatment group) and an additional 6 subjects a placebo (control group). Their reaction time to a stimulus was measured (in ms). We want to perform a two-sample t-test for comparing the means of the treatment and control groups.\n",
    "\n",
    "#Control : 91, 87, 99, 77, 88, 91\n",
    "\n",
    "#Treat :101, 110, 103, 93, 99, 104"
   ]
  },
  {
   "cell_type": "code",
   "execution_count": 7,
   "id": "c522928d",
   "metadata": {},
   "outputs": [],
   "source": [
    "# 2-Sample 2-tail test (comparison between  sample1=sample2)\n",
    "# comparing drugs - Control group and treatment group\n",
    "Control=pd.Series([91, 87, 99, 77, 88, 91])\n",
    "Treat =pd.Series([101, 110, 103, 93, 99, 104])  "
   ]
  },
  {
   "cell_type": "code",
   "execution_count": 8,
   "id": "849e97ca",
   "metadata": {},
   "outputs": [
    {
     "data": {
      "text/plain": [
       "Ttest_indResult(statistic=-3.4456126735364876, pvalue=0.006272124350809803)"
      ]
     },
     "execution_count": 8,
     "metadata": {},
     "output_type": "execute_result"
    }
   ],
   "source": [
    "stats.ttest_ind( Control,Treat) # two tail independent\n",
    "# p=p1+p2. We are conducting 2 sample 2 tail test, so no need to divide p by 2.\n",
    "# H0: μc=μt  no significant deifference (drug is not wroking ) H1(Ha):μc!=μt  drug is working\n",
    "# p=0.006, alfa=0.05, p<alfa so reject null hypo. so accept alt. Hypo\n",
    "# interpretation: 2 responses are not equal so drug is working."
   ]
  },
  {
   "cell_type": "code",
   "execution_count": 9,
   "id": "5f959669",
   "metadata": {},
   "outputs": [
    {
     "name": "stdout",
     "output_type": "stream",
     "text": [
      "Reject Null Hypothesis :no significant deifference (drug is not wroking )\n"
     ]
    }
   ],
   "source": [
    "#Conditional Statement\n",
    "if p_value<0.05:\n",
    "    print(\"Reject Null Hypothesis :no significant deifference (drug is not wroking )\")\n",
    "else:\n",
    "    print(\" Fail to Reject Null Hypothesis :drug is working\")\n"
   ]
  },
  {
   "cell_type": "markdown",
   "id": "bbb77892",
   "metadata": {},
   "source": [
    "# 2 Proportion Test"
   ]
  },
  {
   "cell_type": "code",
   "execution_count": 20,
   "id": "8c32a1c6",
   "metadata": {},
   "outputs": [],
   "source": [
    "import numpy as np"
   ]
  },
  {
   "cell_type": "code",
   "execution_count": 21,
   "id": "e6b376ab",
   "metadata": {},
   "outputs": [],
   "source": [
    "#Data: Placement Data example\n",
    "\n",
    "n1 = 247\n",
    "p1 = .37 # proportion is 0.37\n",
    "\n",
    "n2 = 308\n",
    "p2 = .39 # proportion is 0.39"
   ]
  },
  {
   "cell_type": "code",
   "execution_count": 22,
   "id": "396e5f79",
   "metadata": {},
   "outputs": [],
   "source": [
    "sample1 = np.random.binomial(1,  p1, n1) # 1 - placed i.e. probability of success, 0-not placed\n",
    "sample2 = np.random.binomial(1, p2, n2) # as its a random function every time you execute, you will get diff ans."
   ]
  },
  {
   "cell_type": "code",
   "execution_count": 23,
   "id": "c1c097df",
   "metadata": {},
   "outputs": [
    {
     "data": {
      "text/plain": [
       "array([0, 0, 1, 1, 1, 1, 1, 0, 0, 1, 0, 0, 0, 0, 1, 0, 0, 1, 1, 0, 0, 0,\n",
       "       1, 0, 0, 0, 0, 0, 0, 0, 1, 0, 1, 0, 0, 0, 1, 0, 0, 0, 0, 0, 1, 1,\n",
       "       0, 0, 1, 0, 0, 0, 0, 0, 1, 0, 0, 0, 1, 1, 0, 0, 1, 1, 0, 0, 1, 1,\n",
       "       1, 0, 0, 0, 1, 0, 0, 0, 0, 1, 0, 0, 1, 0, 1, 0, 0, 0, 0, 0, 0, 1,\n",
       "       1, 0, 1, 0, 1, 0, 0, 0, 1, 0, 1, 0, 1, 0, 0, 0, 0, 1, 0, 0, 0, 0,\n",
       "       1, 0, 0, 0, 1, 0, 1, 0, 1, 0, 1, 0, 0, 1, 0, 0, 0, 0, 1, 1, 1, 1,\n",
       "       1, 1, 0, 0, 0, 1, 0, 0, 0, 0, 1, 0, 1, 0, 0, 1, 1, 1, 1, 1, 0, 1,\n",
       "       0, 1, 1, 0, 0, 1, 0, 0, 1, 1, 1, 0, 1, 0, 0, 0, 0, 1, 1, 0, 1, 1,\n",
       "       0, 0, 0, 1, 0, 0, 0, 1, 1, 1, 1, 1, 0, 1, 0, 1, 0, 0, 1, 0, 1, 1,\n",
       "       1, 0, 0, 1, 0, 0, 0, 0, 0, 1, 0, 0, 1, 1, 0, 0, 1, 1, 0, 0, 1, 0,\n",
       "       0, 0, 0, 1, 1, 0, 1, 0, 0, 0, 0, 1, 0, 0, 0, 0, 1, 1, 0, 0, 1, 0,\n",
       "       0, 0, 0, 0, 0])"
      ]
     },
     "execution_count": 23,
     "metadata": {},
     "output_type": "execute_result"
    }
   ],
   "source": [
    "sample1 # 247 student's data. 0-not placed, 1-placed"
   ]
  },
  {
   "cell_type": "code",
   "execution_count": 24,
   "id": "bcb5fe2b",
   "metadata": {},
   "outputs": [
    {
     "data": {
      "text/plain": [
       "array([1, 0, 0, 1, 0, 1, 1, 0, 0, 0, 1, 1, 0, 0, 0, 0, 0, 1, 0, 0, 1, 0,\n",
       "       0, 0, 0, 0, 1, 0, 0, 1, 0, 0, 1, 1, 0, 0, 1, 0, 0, 0, 0, 0, 0, 0,\n",
       "       0, 1, 0, 0, 0, 1, 1, 1, 0, 0, 1, 1, 1, 0, 0, 0, 1, 0, 0, 0, 0, 1,\n",
       "       1, 0, 1, 0, 0, 0, 0, 0, 1, 1, 0, 0, 1, 0, 1, 0, 1, 0, 1, 0, 0, 0,\n",
       "       0, 0, 1, 1, 0, 0, 0, 1, 1, 1, 0, 1, 0, 0, 0, 0, 1, 0, 1, 0, 1, 0,\n",
       "       0, 1, 0, 1, 1, 0, 1, 0, 0, 0, 0, 0, 0, 0, 1, 1, 0, 0, 0, 0, 1, 0,\n",
       "       1, 0, 0, 1, 1, 0, 1, 1, 1, 0, 0, 0, 0, 0, 1, 1, 1, 0, 0, 1, 0, 1,\n",
       "       0, 1, 1, 0, 0, 1, 1, 0, 0, 1, 0, 0, 1, 1, 1, 0, 0, 0, 1, 1, 1, 1,\n",
       "       1, 0, 1, 0, 0, 0, 1, 1, 1, 0, 1, 0, 0, 0, 0, 0, 0, 0, 1, 0, 0, 0,\n",
       "       1, 0, 1, 0, 0, 0, 1, 0, 0, 1, 1, 0, 1, 1, 0, 1, 0, 1, 0, 0, 0, 1,\n",
       "       1, 1, 0, 0, 0, 1, 0, 0, 1, 0, 0, 1, 0, 0, 0, 1, 1, 0, 0, 1, 0, 1,\n",
       "       0, 0, 1, 0, 1, 0, 0, 1, 1, 0, 1, 1, 0, 1, 0, 0, 0, 0, 0, 1, 0, 1,\n",
       "       0, 1, 0, 1, 0, 1, 0, 0, 0, 0, 1, 1, 0, 0, 1, 0, 1, 0, 0, 1, 1, 0,\n",
       "       1, 1, 0, 1, 1, 1, 1, 0, 0, 1, 0, 1, 1, 0, 1, 0, 0, 1, 0, 0, 0, 0])"
      ]
     },
     "execution_count": 24,
     "metadata": {},
     "output_type": "execute_result"
    }
   ],
   "source": [
    "sample2    #  308 student's data. 0-not placed, 1-placed"
   ]
  },
  {
   "cell_type": "code",
   "execution_count": 25,
   "id": "fbed7e57",
   "metadata": {},
   "outputs": [
    {
     "data": {
      "text/plain": [
       "(-0.5273254249719013, 0.5981791071652618, 553.0)"
      ]
     },
     "execution_count": 25,
     "metadata": {},
     "output_type": "execute_result"
    }
   ],
   "source": [
    "import statsmodels.api as sm\n",
    "sm.stats.ttest_ind(sample1, sample2)# middle is the p-value:0.16486546759944468\n",
    "# H0: p1=p2 no significant deifference  H1(Ha):  p1!=p2  significant deifference\n",
    "# p>0.05 so accept null hypo.\n",
    "# interpretation: students are almost equally got placed in 2 states. \n",
    "# i.e. no significant difference in providing placement opportunities to students in 2 states. "
   ]
  },
  {
   "cell_type": "code",
   "execution_count": 178,
   "id": "03543ebf",
   "metadata": {},
   "outputs": [
    {
     "name": "stdout",
     "output_type": "stream",
     "text": [
      "0.16486546759944468\n",
      "0.165\n",
      "Accept null hypothesis\n",
      "--------------------------\n"
     ]
    }
   ],
   "source": [
    "# Another code for same problem\n",
    "import statsmodels.api as sm\n",
    "\n",
    "p=0.05\n",
    "\n",
    "population1 = np.random.binomial(1, p1, n1)\n",
    "population2 = np.random.binomial(1, p2, n2)\n",
    "\n",
    "x=sm.stats.ttest_ind(population1, population2)[1]\n",
    "print(x)\n",
    "print(round(x,3))\n",
    "if x>p:\n",
    "  print(f'Accept null hypothesis\\n--------------------------')\n",
    "else:\n",
    "  print(f'Failed to reject the null hypothesis\\n-------------------')"
   ]
  },
  {
   "cell_type": "code",
   "execution_count": null,
   "id": "1910e2e1",
   "metadata": {},
   "outputs": [],
   "source": []
  },
  {
   "cell_type": "code",
   "execution_count": null,
   "id": "07f69ac9",
   "metadata": {},
   "outputs": [],
   "source": []
  },
  {
   "cell_type": "code",
   "execution_count": null,
   "id": "bc87e1fa",
   "metadata": {},
   "outputs": [],
   "source": [
    "#Excercise"
   ]
  },
  {
   "cell_type": "raw",
   "id": "3831810f",
   "metadata": {},
   "source": [
    "2/(4/np.sqrt(36))"
   ]
  },
  {
   "cell_type": "code",
   "execution_count": 6,
   "id": "b08ca64a",
   "metadata": {},
   "outputs": [
    {
     "data": {
      "text/plain": [
       "0.0013999999999999568"
      ]
     },
     "execution_count": 6,
     "metadata": {},
     "output_type": "execute_result"
    }
   ],
   "source": [
    "1-0.9986   # approx  0.0014"
   ]
  },
  {
   "cell_type": "code",
   "execution_count": 10,
   "id": "1e697394",
   "metadata": {},
   "outputs": [
    {
     "data": {
      "text/plain": [
       "0.0"
      ]
     },
     "execution_count": 10,
     "metadata": {},
     "output_type": "execute_result"
    }
   ],
   "source": [
    "\n",
    "np.std(665)"
   ]
  },
  {
   "cell_type": "code",
   "execution_count": 11,
   "id": "79e07856",
   "metadata": {},
   "outputs": [
    {
     "data": {
      "text/plain": [
       "2.8799999999999955"
      ]
     },
     "execution_count": 11,
     "metadata": {},
     "output_type": "execute_result"
    }
   ],
   "source": [
    "73.88-71"
   ]
  },
  {
   "cell_type": "code",
   "execution_count": 13,
   "id": "058f9ec9",
   "metadata": {},
   "outputs": [
    {
     "data": {
      "text/plain": [
       "2.16"
      ]
     },
     "execution_count": 13,
     "metadata": {},
     "output_type": "execute_result"
    }
   ],
   "source": [
    "2.88/(4/np.sqrt(9))"
   ]
  },
  {
   "cell_type": "code",
   "execution_count": 14,
   "id": "94b34289",
   "metadata": {},
   "outputs": [
    {
     "data": {
      "text/plain": [
       "0.03139469810948703"
      ]
     },
     "execution_count": 14,
     "metadata": {},
     "output_type": "execute_result"
    }
   ],
   "source": [
    "1-stats.t.cdf(2.16,df=8)"
   ]
  },
  {
   "cell_type": "code",
   "execution_count": null,
   "id": "eedeab1c",
   "metadata": {},
   "outputs": [],
   "source": []
  }
 ],
 "metadata": {
  "kernelspec": {
   "display_name": "Python 3 (ipykernel)",
   "language": "python",
   "name": "python3"
  },
  "language_info": {
   "codemirror_mode": {
    "name": "ipython",
    "version": 3
   },
   "file_extension": ".py",
   "mimetype": "text/x-python",
   "name": "python",
   "nbconvert_exporter": "python",
   "pygments_lexer": "ipython3",
   "version": "3.11.4"
  }
 },
 "nbformat": 4,
 "nbformat_minor": 5
}
