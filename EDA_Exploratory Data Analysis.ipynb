{
 "cells": [
  {
   "cell_type": "markdown",
   "id": "1b1f5a70",
   "metadata": {},
   "source": [
    "## EDA (Exploratory Data Analysis)\n",
    "Exploratory Data Analysis (EDA) is an approach to analyze the data using visual techniques and statistical techniques. It is used to discover trends, patterns, or to check assumptions with the help of statistical summary and graphical representations.\n",
    "\n",
    "Steps involved in EDA\n",
    "\n",
    "1.Describing the data\n",
    "\n",
    "2.Data cleaning\n",
    "\n",
    "3.Imputation techniques\n",
    "\n",
    "4.Data analysis and visualization\n",
    "\n",
    "5.Transformations\n",
    "\n",
    "6.Auto EDA"
   ]
  },
  {
   "cell_type": "code",
   "execution_count": 1,
   "id": "206c531c",
   "metadata": {},
   "outputs": [],
   "source": [
    "#load the libraries\n",
    "import pandas as pd\n",
    "import numpy as np\n",
    "import matplotlib.pyplot as plt "
   ]
  },
  {
   "cell_type": "code",
   "execution_count": 2,
   "id": "79a3f94e",
   "metadata": {},
   "outputs": [],
   "source": [
    "data=pd.read_csv('C://Users//pawar//Data science//Csv_files//data_clean.csv',index_col=0)#No index column will be displayed"
   ]
  },
  {
   "cell_type": "code",
   "execution_count": 3,
   "id": "c7d6c25f",
   "metadata": {},
   "outputs": [
    {
     "data": {
      "text/html": [
       "<div>\n",
       "<style scoped>\n",
       "    .dataframe tbody tr th:only-of-type {\n",
       "        vertical-align: middle;\n",
       "    }\n",
       "\n",
       "    .dataframe tbody tr th {\n",
       "        vertical-align: top;\n",
       "    }\n",
       "\n",
       "    .dataframe thead th {\n",
       "        text-align: right;\n",
       "    }\n",
       "</style>\n",
       "<table border=\"1\" class=\"dataframe\">\n",
       "  <thead>\n",
       "    <tr style=\"text-align: right;\">\n",
       "      <th></th>\n",
       "      <th>Ozone</th>\n",
       "      <th>Solar.R</th>\n",
       "      <th>Wind</th>\n",
       "      <th>Month</th>\n",
       "      <th>Day</th>\n",
       "      <th>Year</th>\n",
       "      <th>Temp</th>\n",
       "      <th>Weather</th>\n",
       "    </tr>\n",
       "  </thead>\n",
       "  <tbody>\n",
       "    <tr>\n",
       "      <th>1</th>\n",
       "      <td>41.0</td>\n",
       "      <td>190.0</td>\n",
       "      <td>7.4</td>\n",
       "      <td>5</td>\n",
       "      <td>1</td>\n",
       "      <td>2010</td>\n",
       "      <td>67</td>\n",
       "      <td>S</td>\n",
       "    </tr>\n",
       "    <tr>\n",
       "      <th>2</th>\n",
       "      <td>36.0</td>\n",
       "      <td>118.0</td>\n",
       "      <td>8.0</td>\n",
       "      <td>5</td>\n",
       "      <td>2</td>\n",
       "      <td>2010</td>\n",
       "      <td>72</td>\n",
       "      <td>C</td>\n",
       "    </tr>\n",
       "    <tr>\n",
       "      <th>3</th>\n",
       "      <td>12.0</td>\n",
       "      <td>149.0</td>\n",
       "      <td>12.6</td>\n",
       "      <td>5</td>\n",
       "      <td>3</td>\n",
       "      <td>2010</td>\n",
       "      <td>74</td>\n",
       "      <td>PS</td>\n",
       "    </tr>\n",
       "    <tr>\n",
       "      <th>4</th>\n",
       "      <td>18.0</td>\n",
       "      <td>313.0</td>\n",
       "      <td>11.5</td>\n",
       "      <td>5</td>\n",
       "      <td>4</td>\n",
       "      <td>2010</td>\n",
       "      <td>62</td>\n",
       "      <td>S</td>\n",
       "    </tr>\n",
       "    <tr>\n",
       "      <th>5</th>\n",
       "      <td>NaN</td>\n",
       "      <td>NaN</td>\n",
       "      <td>14.3</td>\n",
       "      <td>5</td>\n",
       "      <td>5</td>\n",
       "      <td>2010</td>\n",
       "      <td>56</td>\n",
       "      <td>S</td>\n",
       "    </tr>\n",
       "  </tbody>\n",
       "</table>\n",
       "</div>"
      ],
      "text/plain": [
       "   Ozone  Solar.R  Wind Month  Day  Year  Temp Weather\n",
       "1   41.0    190.0   7.4     5    1  2010    67       S\n",
       "2   36.0    118.0   8.0     5    2  2010    72       C\n",
       "3   12.0    149.0  12.6     5    3  2010    74      PS\n",
       "4   18.0    313.0  11.5     5    4  2010    62       S\n",
       "5    NaN      NaN  14.3     5    5  2010    56       S"
      ]
     },
     "execution_count": 3,
     "metadata": {},
     "output_type": "execute_result"
    }
   ],
   "source": [
    "data.head()"
   ]
  },
  {
   "cell_type": "code",
   "execution_count": 4,
   "id": "f3a5ef8c",
   "metadata": {},
   "outputs": [
    {
     "data": {
      "text/html": [
       "<div>\n",
       "<style scoped>\n",
       "    .dataframe tbody tr th:only-of-type {\n",
       "        vertical-align: middle;\n",
       "    }\n",
       "\n",
       "    .dataframe tbody tr th {\n",
       "        vertical-align: top;\n",
       "    }\n",
       "\n",
       "    .dataframe thead th {\n",
       "        text-align: right;\n",
       "    }\n",
       "</style>\n",
       "<table border=\"1\" class=\"dataframe\">\n",
       "  <thead>\n",
       "    <tr style=\"text-align: right;\">\n",
       "      <th></th>\n",
       "      <th>Ozone</th>\n",
       "      <th>Solar.R</th>\n",
       "      <th>Wind</th>\n",
       "      <th>Month</th>\n",
       "      <th>Day</th>\n",
       "      <th>Year</th>\n",
       "      <th>Temp</th>\n",
       "      <th>Weather</th>\n",
       "    </tr>\n",
       "  </thead>\n",
       "  <tbody>\n",
       "    <tr>\n",
       "      <th>1</th>\n",
       "      <td>41.0</td>\n",
       "      <td>190.0</td>\n",
       "      <td>7.4</td>\n",
       "      <td>5</td>\n",
       "      <td>1</td>\n",
       "      <td>2010</td>\n",
       "      <td>67</td>\n",
       "      <td>S</td>\n",
       "    </tr>\n",
       "    <tr>\n",
       "      <th>2</th>\n",
       "      <td>36.0</td>\n",
       "      <td>118.0</td>\n",
       "      <td>8.0</td>\n",
       "      <td>5</td>\n",
       "      <td>2</td>\n",
       "      <td>2010</td>\n",
       "      <td>72</td>\n",
       "      <td>C</td>\n",
       "    </tr>\n",
       "    <tr>\n",
       "      <th>3</th>\n",
       "      <td>12.0</td>\n",
       "      <td>149.0</td>\n",
       "      <td>12.6</td>\n",
       "      <td>5</td>\n",
       "      <td>3</td>\n",
       "      <td>2010</td>\n",
       "      <td>74</td>\n",
       "      <td>PS</td>\n",
       "    </tr>\n",
       "    <tr>\n",
       "      <th>4</th>\n",
       "      <td>18.0</td>\n",
       "      <td>313.0</td>\n",
       "      <td>11.5</td>\n",
       "      <td>5</td>\n",
       "      <td>4</td>\n",
       "      <td>2010</td>\n",
       "      <td>62</td>\n",
       "      <td>S</td>\n",
       "    </tr>\n",
       "    <tr>\n",
       "      <th>5</th>\n",
       "      <td>NaN</td>\n",
       "      <td>NaN</td>\n",
       "      <td>14.3</td>\n",
       "      <td>5</td>\n",
       "      <td>5</td>\n",
       "      <td>2010</td>\n",
       "      <td>56</td>\n",
       "      <td>S</td>\n",
       "    </tr>\n",
       "    <tr>\n",
       "      <th>...</th>\n",
       "      <td>...</td>\n",
       "      <td>...</td>\n",
       "      <td>...</td>\n",
       "      <td>...</td>\n",
       "      <td>...</td>\n",
       "      <td>...</td>\n",
       "      <td>...</td>\n",
       "      <td>...</td>\n",
       "    </tr>\n",
       "    <tr>\n",
       "      <th>154</th>\n",
       "      <td>41.0</td>\n",
       "      <td>190.0</td>\n",
       "      <td>7.4</td>\n",
       "      <td>5</td>\n",
       "      <td>1</td>\n",
       "      <td>2010</td>\n",
       "      <td>67</td>\n",
       "      <td>C</td>\n",
       "    </tr>\n",
       "    <tr>\n",
       "      <th>155</th>\n",
       "      <td>30.0</td>\n",
       "      <td>193.0</td>\n",
       "      <td>6.9</td>\n",
       "      <td>9</td>\n",
       "      <td>26</td>\n",
       "      <td>2010</td>\n",
       "      <td>70</td>\n",
       "      <td>PS</td>\n",
       "    </tr>\n",
       "    <tr>\n",
       "      <th>156</th>\n",
       "      <td>NaN</td>\n",
       "      <td>145.0</td>\n",
       "      <td>13.2</td>\n",
       "      <td>9</td>\n",
       "      <td>27</td>\n",
       "      <td>2010</td>\n",
       "      <td>77</td>\n",
       "      <td>S</td>\n",
       "    </tr>\n",
       "    <tr>\n",
       "      <th>157</th>\n",
       "      <td>14.0</td>\n",
       "      <td>191.0</td>\n",
       "      <td>14.3</td>\n",
       "      <td>9</td>\n",
       "      <td>28</td>\n",
       "      <td>2010</td>\n",
       "      <td>75</td>\n",
       "      <td>S</td>\n",
       "    </tr>\n",
       "    <tr>\n",
       "      <th>158</th>\n",
       "      <td>18.0</td>\n",
       "      <td>131.0</td>\n",
       "      <td>8.0</td>\n",
       "      <td>9</td>\n",
       "      <td>29</td>\n",
       "      <td>2010</td>\n",
       "      <td>76</td>\n",
       "      <td>C</td>\n",
       "    </tr>\n",
       "  </tbody>\n",
       "</table>\n",
       "<p>158 rows × 8 columns</p>\n",
       "</div>"
      ],
      "text/plain": [
       "     Ozone  Solar.R  Wind Month  Day  Year  Temp Weather\n",
       "1     41.0    190.0   7.4     5    1  2010    67       S\n",
       "2     36.0    118.0   8.0     5    2  2010    72       C\n",
       "3     12.0    149.0  12.6     5    3  2010    74      PS\n",
       "4     18.0    313.0  11.5     5    4  2010    62       S\n",
       "5      NaN      NaN  14.3     5    5  2010    56       S\n",
       "..     ...      ...   ...   ...  ...   ...   ...     ...\n",
       "154   41.0    190.0   7.4     5    1  2010    67       C\n",
       "155   30.0    193.0   6.9     9   26  2010    70      PS\n",
       "156    NaN    145.0  13.2     9   27  2010    77       S\n",
       "157   14.0    191.0  14.3     9   28  2010    75       S\n",
       "158   18.0    131.0   8.0     9   29  2010    76       C\n",
       "\n",
       "[158 rows x 8 columns]"
      ]
     },
     "execution_count": 4,
     "metadata": {},
     "output_type": "execute_result"
    }
   ],
   "source": [
    "data"
   ]
  },
  {
   "cell_type": "code",
   "execution_count": 5,
   "id": "3b533856",
   "metadata": {},
   "outputs": [
    {
     "data": {
      "text/html": [
       "<div>\n",
       "<style scoped>\n",
       "    .dataframe tbody tr th:only-of-type {\n",
       "        vertical-align: middle;\n",
       "    }\n",
       "\n",
       "    .dataframe tbody tr th {\n",
       "        vertical-align: top;\n",
       "    }\n",
       "\n",
       "    .dataframe thead th {\n",
       "        text-align: right;\n",
       "    }\n",
       "</style>\n",
       "<table border=\"1\" class=\"dataframe\">\n",
       "  <thead>\n",
       "    <tr style=\"text-align: right;\">\n",
       "      <th></th>\n",
       "      <th>Ozone</th>\n",
       "      <th>Solar.R</th>\n",
       "      <th>Wind</th>\n",
       "      <th>Month</th>\n",
       "      <th>Day</th>\n",
       "      <th>Year</th>\n",
       "      <th>Temp</th>\n",
       "      <th>Weather</th>\n",
       "    </tr>\n",
       "  </thead>\n",
       "  <tbody>\n",
       "    <tr>\n",
       "      <th>149</th>\n",
       "      <td>30.0</td>\n",
       "      <td>193.0</td>\n",
       "      <td>6.9</td>\n",
       "      <td>9</td>\n",
       "      <td>26</td>\n",
       "      <td>2010</td>\n",
       "      <td>70</td>\n",
       "      <td>C</td>\n",
       "    </tr>\n",
       "    <tr>\n",
       "      <th>150</th>\n",
       "      <td>NaN</td>\n",
       "      <td>145.0</td>\n",
       "      <td>13.2</td>\n",
       "      <td>9</td>\n",
       "      <td>27</td>\n",
       "      <td>2010</td>\n",
       "      <td>77</td>\n",
       "      <td>PS</td>\n",
       "    </tr>\n",
       "    <tr>\n",
       "      <th>151</th>\n",
       "      <td>14.0</td>\n",
       "      <td>191.0</td>\n",
       "      <td>14.3</td>\n",
       "      <td>9</td>\n",
       "      <td>28</td>\n",
       "      <td>2010</td>\n",
       "      <td>75</td>\n",
       "      <td>S</td>\n",
       "    </tr>\n",
       "    <tr>\n",
       "      <th>152</th>\n",
       "      <td>18.0</td>\n",
       "      <td>131.0</td>\n",
       "      <td>8.0</td>\n",
       "      <td>9</td>\n",
       "      <td>29</td>\n",
       "      <td>2010</td>\n",
       "      <td>76</td>\n",
       "      <td>PS</td>\n",
       "    </tr>\n",
       "    <tr>\n",
       "      <th>153</th>\n",
       "      <td>20.0</td>\n",
       "      <td>223.0</td>\n",
       "      <td>11.5</td>\n",
       "      <td>9</td>\n",
       "      <td>30</td>\n",
       "      <td>2010</td>\n",
       "      <td>68</td>\n",
       "      <td>S</td>\n",
       "    </tr>\n",
       "    <tr>\n",
       "      <th>154</th>\n",
       "      <td>41.0</td>\n",
       "      <td>190.0</td>\n",
       "      <td>7.4</td>\n",
       "      <td>5</td>\n",
       "      <td>1</td>\n",
       "      <td>2010</td>\n",
       "      <td>67</td>\n",
       "      <td>C</td>\n",
       "    </tr>\n",
       "    <tr>\n",
       "      <th>155</th>\n",
       "      <td>30.0</td>\n",
       "      <td>193.0</td>\n",
       "      <td>6.9</td>\n",
       "      <td>9</td>\n",
       "      <td>26</td>\n",
       "      <td>2010</td>\n",
       "      <td>70</td>\n",
       "      <td>PS</td>\n",
       "    </tr>\n",
       "    <tr>\n",
       "      <th>156</th>\n",
       "      <td>NaN</td>\n",
       "      <td>145.0</td>\n",
       "      <td>13.2</td>\n",
       "      <td>9</td>\n",
       "      <td>27</td>\n",
       "      <td>2010</td>\n",
       "      <td>77</td>\n",
       "      <td>S</td>\n",
       "    </tr>\n",
       "    <tr>\n",
       "      <th>157</th>\n",
       "      <td>14.0</td>\n",
       "      <td>191.0</td>\n",
       "      <td>14.3</td>\n",
       "      <td>9</td>\n",
       "      <td>28</td>\n",
       "      <td>2010</td>\n",
       "      <td>75</td>\n",
       "      <td>S</td>\n",
       "    </tr>\n",
       "    <tr>\n",
       "      <th>158</th>\n",
       "      <td>18.0</td>\n",
       "      <td>131.0</td>\n",
       "      <td>8.0</td>\n",
       "      <td>9</td>\n",
       "      <td>29</td>\n",
       "      <td>2010</td>\n",
       "      <td>76</td>\n",
       "      <td>C</td>\n",
       "    </tr>\n",
       "  </tbody>\n",
       "</table>\n",
       "</div>"
      ],
      "text/plain": [
       "     Ozone  Solar.R  Wind Month  Day  Year  Temp Weather\n",
       "149   30.0    193.0   6.9     9   26  2010    70       C\n",
       "150    NaN    145.0  13.2     9   27  2010    77      PS\n",
       "151   14.0    191.0  14.3     9   28  2010    75       S\n",
       "152   18.0    131.0   8.0     9   29  2010    76      PS\n",
       "153   20.0    223.0  11.5     9   30  2010    68       S\n",
       "154   41.0    190.0   7.4     5    1  2010    67       C\n",
       "155   30.0    193.0   6.9     9   26  2010    70      PS\n",
       "156    NaN    145.0  13.2     9   27  2010    77       S\n",
       "157   14.0    191.0  14.3     9   28  2010    75       S\n",
       "158   18.0    131.0   8.0     9   29  2010    76       C"
      ]
     },
     "execution_count": 5,
     "metadata": {},
     "output_type": "execute_result"
    }
   ],
   "source": [
    "data.tail(10)"
   ]
  },
  {
   "cell_type": "code",
   "execution_count": 6,
   "id": "6a66be49",
   "metadata": {},
   "outputs": [
    {
     "name": "stdout",
     "output_type": "stream",
     "text": [
      "<class 'pandas.core.frame.DataFrame'>\n",
      "(158, 8)\n"
     ]
    }
   ],
   "source": [
    "#Data Structure \n",
    "print(type(data))\n",
    "print(data.shape)"
   ]
  },
  {
   "cell_type": "code",
   "execution_count": 7,
   "id": "2d1a79e0",
   "metadata": {},
   "outputs": [
    {
     "data": {
      "text/plain": [
       "Ozone      float64\n",
       "Solar.R    float64\n",
       "Wind       float64\n",
       "Month       object\n",
       "Day          int64\n",
       "Year         int64\n",
       "Temp         int64\n",
       "Weather     object\n",
       "dtype: object"
      ]
     },
     "execution_count": 7,
     "metadata": {},
     "output_type": "execute_result"
    }
   ],
   "source": [
    "#data types\n",
    "data.dtypes # check data types of all variables"
   ]
  },
  {
   "cell_type": "code",
   "execution_count": 8,
   "id": "3f49913c",
   "metadata": {},
   "outputs": [
    {
     "data": {
      "text/html": [
       "<div>\n",
       "<style scoped>\n",
       "    .dataframe tbody tr th:only-of-type {\n",
       "        vertical-align: middle;\n",
       "    }\n",
       "\n",
       "    .dataframe tbody tr th {\n",
       "        vertical-align: top;\n",
       "    }\n",
       "\n",
       "    .dataframe thead th {\n",
       "        text-align: right;\n",
       "    }\n",
       "</style>\n",
       "<table border=\"1\" class=\"dataframe\">\n",
       "  <thead>\n",
       "    <tr style=\"text-align: right;\">\n",
       "      <th></th>\n",
       "      <th>Ozone</th>\n",
       "      <th>Solar.R</th>\n",
       "      <th>Wind</th>\n",
       "      <th>Day</th>\n",
       "      <th>Year</th>\n",
       "      <th>Temp</th>\n",
       "    </tr>\n",
       "  </thead>\n",
       "  <tbody>\n",
       "    <tr>\n",
       "      <th>count</th>\n",
       "      <td>120.000000</td>\n",
       "      <td>151.000000</td>\n",
       "      <td>158.000000</td>\n",
       "      <td>158.000000</td>\n",
       "      <td>158.0</td>\n",
       "      <td>158.000000</td>\n",
       "    </tr>\n",
       "    <tr>\n",
       "      <th>mean</th>\n",
       "      <td>41.583333</td>\n",
       "      <td>185.403974</td>\n",
       "      <td>9.957595</td>\n",
       "      <td>16.006329</td>\n",
       "      <td>2010.0</td>\n",
       "      <td>77.727848</td>\n",
       "    </tr>\n",
       "    <tr>\n",
       "      <th>std</th>\n",
       "      <td>32.620709</td>\n",
       "      <td>88.723103</td>\n",
       "      <td>3.511261</td>\n",
       "      <td>8.997166</td>\n",
       "      <td>0.0</td>\n",
       "      <td>9.377877</td>\n",
       "    </tr>\n",
       "    <tr>\n",
       "      <th>min</th>\n",
       "      <td>1.000000</td>\n",
       "      <td>7.000000</td>\n",
       "      <td>1.700000</td>\n",
       "      <td>1.000000</td>\n",
       "      <td>2010.0</td>\n",
       "      <td>56.000000</td>\n",
       "    </tr>\n",
       "    <tr>\n",
       "      <th>25%</th>\n",
       "      <td>18.000000</td>\n",
       "      <td>119.000000</td>\n",
       "      <td>7.400000</td>\n",
       "      <td>8.000000</td>\n",
       "      <td>2010.0</td>\n",
       "      <td>72.000000</td>\n",
       "    </tr>\n",
       "    <tr>\n",
       "      <th>50%</th>\n",
       "      <td>30.500000</td>\n",
       "      <td>197.000000</td>\n",
       "      <td>9.700000</td>\n",
       "      <td>16.000000</td>\n",
       "      <td>2010.0</td>\n",
       "      <td>78.500000</td>\n",
       "    </tr>\n",
       "    <tr>\n",
       "      <th>75%</th>\n",
       "      <td>61.500000</td>\n",
       "      <td>257.000000</td>\n",
       "      <td>11.875000</td>\n",
       "      <td>24.000000</td>\n",
       "      <td>2010.0</td>\n",
       "      <td>84.000000</td>\n",
       "    </tr>\n",
       "    <tr>\n",
       "      <th>max</th>\n",
       "      <td>168.000000</td>\n",
       "      <td>334.000000</td>\n",
       "      <td>20.700000</td>\n",
       "      <td>31.000000</td>\n",
       "      <td>2010.0</td>\n",
       "      <td>97.000000</td>\n",
       "    </tr>\n",
       "  </tbody>\n",
       "</table>\n",
       "</div>"
      ],
      "text/plain": [
       "            Ozone     Solar.R        Wind         Day    Year        Temp\n",
       "count  120.000000  151.000000  158.000000  158.000000   158.0  158.000000\n",
       "mean    41.583333  185.403974    9.957595   16.006329  2010.0   77.727848\n",
       "std     32.620709   88.723103    3.511261    8.997166     0.0    9.377877\n",
       "min      1.000000    7.000000    1.700000    1.000000  2010.0   56.000000\n",
       "25%     18.000000  119.000000    7.400000    8.000000  2010.0   72.000000\n",
       "50%     30.500000  197.000000    9.700000   16.000000  2010.0   78.500000\n",
       "75%     61.500000  257.000000   11.875000   24.000000  2010.0   84.000000\n",
       "max    168.000000  334.000000   20.700000   31.000000  2010.0   97.000000"
      ]
     },
     "execution_count": 8,
     "metadata": {},
     "output_type": "execute_result"
    }
   ],
   "source": [
    "data.describe()"
   ]
  },
  {
   "cell_type": "code",
   "execution_count": 9,
   "id": "15e6c79a",
   "metadata": {},
   "outputs": [
    {
     "name": "stdout",
     "output_type": "stream",
     "text": [
      "<class 'pandas.core.frame.DataFrame'>\n",
      "Int64Index: 158 entries, 1 to 158\n",
      "Data columns (total 8 columns):\n",
      " #   Column   Non-Null Count  Dtype  \n",
      "---  ------   --------------  -----  \n",
      " 0   Ozone    120 non-null    float64\n",
      " 1   Solar.R  151 non-null    float64\n",
      " 2   Wind     158 non-null    float64\n",
      " 3   Month    158 non-null    object \n",
      " 4   Day      158 non-null    int64  \n",
      " 5   Year     158 non-null    int64  \n",
      " 6   Temp     158 non-null    int64  \n",
      " 7   Weather  155 non-null    object \n",
      "dtypes: float64(3), int64(3), object(2)\n",
      "memory usage: 11.1+ KB\n"
     ]
    }
   ],
   "source": [
    "data.info() # find missing values / null values"
   ]
  },
  {
   "cell_type": "markdown",
   "id": "08f4c501",
   "metadata": {},
   "source": [
    "# Data type conversion"
   ]
  },
  {
   "cell_type": "code",
   "execution_count": 10,
   "id": "5bb4f3ff",
   "metadata": {},
   "outputs": [
    {
     "ename": "KeyError",
     "evalue": "'Temp C'",
     "output_type": "error",
     "traceback": [
      "\u001b[1;31m---------------------------------------------------------------------------\u001b[0m",
      "\u001b[1;31mKeyError\u001b[0m                                  Traceback (most recent call last)",
      "File \u001b[1;32m~\\anaconda3\\Lib\\site-packages\\pandas\\core\\indexes\\base.py:3802\u001b[0m, in \u001b[0;36mIndex.get_loc\u001b[1;34m(self, key, method, tolerance)\u001b[0m\n\u001b[0;32m   3801\u001b[0m \u001b[38;5;28;01mtry\u001b[39;00m:\n\u001b[1;32m-> 3802\u001b[0m     \u001b[38;5;28;01mreturn\u001b[39;00m \u001b[38;5;28mself\u001b[39m\u001b[38;5;241m.\u001b[39m_engine\u001b[38;5;241m.\u001b[39mget_loc(casted_key)\n\u001b[0;32m   3803\u001b[0m \u001b[38;5;28;01mexcept\u001b[39;00m \u001b[38;5;167;01mKeyError\u001b[39;00m \u001b[38;5;28;01mas\u001b[39;00m err:\n",
      "File \u001b[1;32m~\\anaconda3\\Lib\\site-packages\\pandas\\_libs\\index.pyx:138\u001b[0m, in \u001b[0;36mpandas._libs.index.IndexEngine.get_loc\u001b[1;34m()\u001b[0m\n",
      "File \u001b[1;32m~\\anaconda3\\Lib\\site-packages\\pandas\\_libs\\index.pyx:165\u001b[0m, in \u001b[0;36mpandas._libs.index.IndexEngine.get_loc\u001b[1;34m()\u001b[0m\n",
      "File \u001b[1;32mpandas\\_libs\\hashtable_class_helper.pxi:5745\u001b[0m, in \u001b[0;36mpandas._libs.hashtable.PyObjectHashTable.get_item\u001b[1;34m()\u001b[0m\n",
      "File \u001b[1;32mpandas\\_libs\\hashtable_class_helper.pxi:5753\u001b[0m, in \u001b[0;36mpandas._libs.hashtable.PyObjectHashTable.get_item\u001b[1;34m()\u001b[0m\n",
      "\u001b[1;31mKeyError\u001b[0m: 'Temp C'",
      "\nThe above exception was the direct cause of the following exception:\n",
      "\u001b[1;31mKeyError\u001b[0m                                  Traceback (most recent call last)",
      "Cell \u001b[1;32mIn[10], line 2\u001b[0m\n\u001b[0;32m      1\u001b[0m data[\u001b[38;5;124m'\u001b[39m\u001b[38;5;124mMonth\u001b[39m\u001b[38;5;124m'\u001b[39m]\u001b[38;5;241m=\u001b[39mpd\u001b[38;5;241m.\u001b[39mto_numeric(data[\u001b[38;5;124m'\u001b[39m\u001b[38;5;124mMonth\u001b[39m\u001b[38;5;124m'\u001b[39m],errors\u001b[38;5;241m=\u001b[39m\u001b[38;5;124m'\u001b[39m\u001b[38;5;124mcoerce\u001b[39m\u001b[38;5;124m'\u001b[39m) \u001b[38;5;66;03m#replace with  NA \u001b[39;00m\n\u001b[1;32m----> 2\u001b[0m data[\u001b[38;5;124m'\u001b[39m\u001b[38;5;124mTemp C\u001b[39m\u001b[38;5;124m'\u001b[39m]\u001b[38;5;241m=\u001b[39mpd\u001b[38;5;241m.\u001b[39mto_numeric(data[\u001b[38;5;124m'\u001b[39m\u001b[38;5;124mTemp C\u001b[39m\u001b[38;5;124m'\u001b[39m],errors\u001b[38;5;241m=\u001b[39m\u001b[38;5;124m'\u001b[39m\u001b[38;5;124mcoerce\u001b[39m\u001b[38;5;124m'\u001b[39m)\u001b[38;5;66;03m# coerce will introduce NA values for non numeric data in the columns\u001b[39;00m\n\u001b[0;32m      3\u001b[0m data[\u001b[38;5;124m'\u001b[39m\u001b[38;5;124mWeather\u001b[39m\u001b[38;5;124m'\u001b[39m]\u001b[38;5;241m=\u001b[39mdata[\u001b[38;5;124m'\u001b[39m\u001b[38;5;124mWeather\u001b[39m\u001b[38;5;124m'\u001b[39m]\u001b[38;5;241m.\u001b[39mastype(\u001b[38;5;124m'\u001b[39m\u001b[38;5;124mcategory\u001b[39m\u001b[38;5;124m'\u001b[39m)\n",
      "File \u001b[1;32m~\\anaconda3\\Lib\\site-packages\\pandas\\core\\frame.py:3807\u001b[0m, in \u001b[0;36mDataFrame.__getitem__\u001b[1;34m(self, key)\u001b[0m\n\u001b[0;32m   3805\u001b[0m \u001b[38;5;28;01mif\u001b[39;00m \u001b[38;5;28mself\u001b[39m\u001b[38;5;241m.\u001b[39mcolumns\u001b[38;5;241m.\u001b[39mnlevels \u001b[38;5;241m>\u001b[39m \u001b[38;5;241m1\u001b[39m:\n\u001b[0;32m   3806\u001b[0m     \u001b[38;5;28;01mreturn\u001b[39;00m \u001b[38;5;28mself\u001b[39m\u001b[38;5;241m.\u001b[39m_getitem_multilevel(key)\n\u001b[1;32m-> 3807\u001b[0m indexer \u001b[38;5;241m=\u001b[39m \u001b[38;5;28mself\u001b[39m\u001b[38;5;241m.\u001b[39mcolumns\u001b[38;5;241m.\u001b[39mget_loc(key)\n\u001b[0;32m   3808\u001b[0m \u001b[38;5;28;01mif\u001b[39;00m is_integer(indexer):\n\u001b[0;32m   3809\u001b[0m     indexer \u001b[38;5;241m=\u001b[39m [indexer]\n",
      "File \u001b[1;32m~\\anaconda3\\Lib\\site-packages\\pandas\\core\\indexes\\base.py:3804\u001b[0m, in \u001b[0;36mIndex.get_loc\u001b[1;34m(self, key, method, tolerance)\u001b[0m\n\u001b[0;32m   3802\u001b[0m     \u001b[38;5;28;01mreturn\u001b[39;00m \u001b[38;5;28mself\u001b[39m\u001b[38;5;241m.\u001b[39m_engine\u001b[38;5;241m.\u001b[39mget_loc(casted_key)\n\u001b[0;32m   3803\u001b[0m \u001b[38;5;28;01mexcept\u001b[39;00m \u001b[38;5;167;01mKeyError\u001b[39;00m \u001b[38;5;28;01mas\u001b[39;00m err:\n\u001b[1;32m-> 3804\u001b[0m     \u001b[38;5;28;01mraise\u001b[39;00m \u001b[38;5;167;01mKeyError\u001b[39;00m(key) \u001b[38;5;28;01mfrom\u001b[39;00m \u001b[38;5;21;01merr\u001b[39;00m\n\u001b[0;32m   3805\u001b[0m \u001b[38;5;28;01mexcept\u001b[39;00m \u001b[38;5;167;01mTypeError\u001b[39;00m:\n\u001b[0;32m   3806\u001b[0m     \u001b[38;5;66;03m# If we have a listlike key, _check_indexing_error will raise\u001b[39;00m\n\u001b[0;32m   3807\u001b[0m     \u001b[38;5;66;03m#  InvalidIndexError. Otherwise we fall through and re-raise\u001b[39;00m\n\u001b[0;32m   3808\u001b[0m     \u001b[38;5;66;03m#  the TypeError.\u001b[39;00m\n\u001b[0;32m   3809\u001b[0m     \u001b[38;5;28mself\u001b[39m\u001b[38;5;241m.\u001b[39m_check_indexing_error(key)\n",
      "\u001b[1;31mKeyError\u001b[0m: 'Temp C'"
     ]
    }
   ],
   "source": [
    "data['Month']=pd.to_numeric(data['Month'],errors='coerce') #replace with  NA \n",
    "data['Temp C']=pd.to_numeric(data['Temp C'],errors='coerce')# coerce will introduce NA values for non numeric data in the columns\n",
    "data['Weather']=data['Weather'].astype('category') #data['Wind']=data['Wind'].astype('int64')"
   ]
  },
  {
   "cell_type": "code",
   "execution_count": null,
   "id": "9e319312",
   "metadata": {},
   "outputs": [],
   "source": [
    "data.info()"
   ]
  },
  {
   "cell_type": "code",
   "execution_count": null,
   "id": "61e4ff5c",
   "metadata": {},
   "outputs": [],
   "source": [
    "#https://stackoverflow.com/questions/15891038/change-column-type-in-pandas"
   ]
  },
  {
   "cell_type": "markdown",
   "id": "db1df191",
   "metadata": {},
   "source": [
    "# Duplicates"
   ]
  },
  {
   "cell_type": "code",
   "execution_count": 11,
   "id": "79835ff2",
   "metadata": {},
   "outputs": [
    {
     "data": {
      "text/plain": [
       "1      False\n",
       "2      False\n",
       "3      False\n",
       "4      False\n",
       "5      False\n",
       "       ...  \n",
       "154    False\n",
       "155    False\n",
       "156    False\n",
       "157     True\n",
       "158    False\n",
       "Length: 158, dtype: bool"
      ]
     },
     "execution_count": 11,
     "metadata": {},
     "output_type": "execute_result"
    }
   ],
   "source": [
    "data.duplicated() # if any 2 rows has same values"
   ]
  },
  {
   "cell_type": "code",
   "execution_count": 12,
   "id": "8770aa47",
   "metadata": {},
   "outputs": [
    {
     "data": {
      "text/plain": [
       "(1, 8)"
      ]
     },
     "execution_count": 12,
     "metadata": {},
     "output_type": "execute_result"
    }
   ],
   "source": [
    "#Count of duplicated rows\n",
    "data[data.duplicated()].shape"
   ]
  },
  {
   "cell_type": "code",
   "execution_count": 13,
   "id": "707fe1ed",
   "metadata": {},
   "outputs": [
    {
     "data": {
      "text/html": [
       "<div>\n",
       "<style scoped>\n",
       "    .dataframe tbody tr th:only-of-type {\n",
       "        vertical-align: middle;\n",
       "    }\n",
       "\n",
       "    .dataframe tbody tr th {\n",
       "        vertical-align: top;\n",
       "    }\n",
       "\n",
       "    .dataframe thead th {\n",
       "        text-align: right;\n",
       "    }\n",
       "</style>\n",
       "<table border=\"1\" class=\"dataframe\">\n",
       "  <thead>\n",
       "    <tr style=\"text-align: right;\">\n",
       "      <th></th>\n",
       "      <th>Ozone</th>\n",
       "      <th>Solar.R</th>\n",
       "      <th>Wind</th>\n",
       "      <th>Month</th>\n",
       "      <th>Day</th>\n",
       "      <th>Year</th>\n",
       "      <th>Temp</th>\n",
       "      <th>Weather</th>\n",
       "    </tr>\n",
       "  </thead>\n",
       "  <tbody>\n",
       "    <tr>\n",
       "      <th>1</th>\n",
       "      <td>41.0</td>\n",
       "      <td>190.0</td>\n",
       "      <td>7.4</td>\n",
       "      <td>5.0</td>\n",
       "      <td>1</td>\n",
       "      <td>2010</td>\n",
       "      <td>67</td>\n",
       "      <td>S</td>\n",
       "    </tr>\n",
       "    <tr>\n",
       "      <th>2</th>\n",
       "      <td>36.0</td>\n",
       "      <td>118.0</td>\n",
       "      <td>8.0</td>\n",
       "      <td>5.0</td>\n",
       "      <td>2</td>\n",
       "      <td>2010</td>\n",
       "      <td>72</td>\n",
       "      <td>C</td>\n",
       "    </tr>\n",
       "    <tr>\n",
       "      <th>3</th>\n",
       "      <td>12.0</td>\n",
       "      <td>149.0</td>\n",
       "      <td>12.6</td>\n",
       "      <td>5.0</td>\n",
       "      <td>3</td>\n",
       "      <td>2010</td>\n",
       "      <td>74</td>\n",
       "      <td>PS</td>\n",
       "    </tr>\n",
       "    <tr>\n",
       "      <th>4</th>\n",
       "      <td>18.0</td>\n",
       "      <td>313.0</td>\n",
       "      <td>11.5</td>\n",
       "      <td>5.0</td>\n",
       "      <td>4</td>\n",
       "      <td>2010</td>\n",
       "      <td>62</td>\n",
       "      <td>S</td>\n",
       "    </tr>\n",
       "    <tr>\n",
       "      <th>5</th>\n",
       "      <td>NaN</td>\n",
       "      <td>NaN</td>\n",
       "      <td>14.3</td>\n",
       "      <td>5.0</td>\n",
       "      <td>5</td>\n",
       "      <td>2010</td>\n",
       "      <td>56</td>\n",
       "      <td>S</td>\n",
       "    </tr>\n",
       "    <tr>\n",
       "      <th>...</th>\n",
       "      <td>...</td>\n",
       "      <td>...</td>\n",
       "      <td>...</td>\n",
       "      <td>...</td>\n",
       "      <td>...</td>\n",
       "      <td>...</td>\n",
       "      <td>...</td>\n",
       "      <td>...</td>\n",
       "    </tr>\n",
       "    <tr>\n",
       "      <th>154</th>\n",
       "      <td>41.0</td>\n",
       "      <td>190.0</td>\n",
       "      <td>7.4</td>\n",
       "      <td>5.0</td>\n",
       "      <td>1</td>\n",
       "      <td>2010</td>\n",
       "      <td>67</td>\n",
       "      <td>C</td>\n",
       "    </tr>\n",
       "    <tr>\n",
       "      <th>155</th>\n",
       "      <td>30.0</td>\n",
       "      <td>193.0</td>\n",
       "      <td>6.9</td>\n",
       "      <td>9.0</td>\n",
       "      <td>26</td>\n",
       "      <td>2010</td>\n",
       "      <td>70</td>\n",
       "      <td>PS</td>\n",
       "    </tr>\n",
       "    <tr>\n",
       "      <th>156</th>\n",
       "      <td>NaN</td>\n",
       "      <td>145.0</td>\n",
       "      <td>13.2</td>\n",
       "      <td>9.0</td>\n",
       "      <td>27</td>\n",
       "      <td>2010</td>\n",
       "      <td>77</td>\n",
       "      <td>S</td>\n",
       "    </tr>\n",
       "    <tr>\n",
       "      <th>157</th>\n",
       "      <td>14.0</td>\n",
       "      <td>191.0</td>\n",
       "      <td>14.3</td>\n",
       "      <td>9.0</td>\n",
       "      <td>28</td>\n",
       "      <td>2010</td>\n",
       "      <td>75</td>\n",
       "      <td>S</td>\n",
       "    </tr>\n",
       "    <tr>\n",
       "      <th>158</th>\n",
       "      <td>18.0</td>\n",
       "      <td>131.0</td>\n",
       "      <td>8.0</td>\n",
       "      <td>9.0</td>\n",
       "      <td>29</td>\n",
       "      <td>2010</td>\n",
       "      <td>76</td>\n",
       "      <td>C</td>\n",
       "    </tr>\n",
       "  </tbody>\n",
       "</table>\n",
       "<p>158 rows × 8 columns</p>\n",
       "</div>"
      ],
      "text/plain": [
       "     Ozone  Solar.R  Wind  Month  Day  Year  Temp Weather\n",
       "1     41.0    190.0   7.4    5.0    1  2010    67       S\n",
       "2     36.0    118.0   8.0    5.0    2  2010    72       C\n",
       "3     12.0    149.0  12.6    5.0    3  2010    74      PS\n",
       "4     18.0    313.0  11.5    5.0    4  2010    62       S\n",
       "5      NaN      NaN  14.3    5.0    5  2010    56       S\n",
       "..     ...      ...   ...    ...  ...   ...   ...     ...\n",
       "154   41.0    190.0   7.4    5.0    1  2010    67       C\n",
       "155   30.0    193.0   6.9    9.0   26  2010    70      PS\n",
       "156    NaN    145.0  13.2    9.0   27  2010    77       S\n",
       "157   14.0    191.0  14.3    9.0   28  2010    75       S\n",
       "158   18.0    131.0   8.0    9.0   29  2010    76       C\n",
       "\n",
       "[158 rows x 8 columns]"
      ]
     },
     "execution_count": 13,
     "metadata": {},
     "output_type": "execute_result"
    }
   ],
   "source": [
    "data"
   ]
  },
  {
   "cell_type": "code",
   "execution_count": 14,
   "id": "e5b14572",
   "metadata": {},
   "outputs": [
    {
     "data": {
      "text/html": [
       "<div>\n",
       "<style scoped>\n",
       "    .dataframe tbody tr th:only-of-type {\n",
       "        vertical-align: middle;\n",
       "    }\n",
       "\n",
       "    .dataframe tbody tr th {\n",
       "        vertical-align: top;\n",
       "    }\n",
       "\n",
       "    .dataframe thead th {\n",
       "        text-align: right;\n",
       "    }\n",
       "</style>\n",
       "<table border=\"1\" class=\"dataframe\">\n",
       "  <thead>\n",
       "    <tr style=\"text-align: right;\">\n",
       "      <th></th>\n",
       "      <th>Ozone</th>\n",
       "      <th>Solar.R</th>\n",
       "      <th>Wind</th>\n",
       "      <th>Month</th>\n",
       "      <th>Day</th>\n",
       "      <th>Year</th>\n",
       "      <th>Temp</th>\n",
       "      <th>Weather</th>\n",
       "    </tr>\n",
       "  </thead>\n",
       "  <tbody>\n",
       "    <tr>\n",
       "      <th>157</th>\n",
       "      <td>14.0</td>\n",
       "      <td>191.0</td>\n",
       "      <td>14.3</td>\n",
       "      <td>9.0</td>\n",
       "      <td>28</td>\n",
       "      <td>2010</td>\n",
       "      <td>75</td>\n",
       "      <td>S</td>\n",
       "    </tr>\n",
       "  </tbody>\n",
       "</table>\n",
       "</div>"
      ],
      "text/plain": [
       "     Ozone  Solar.R  Wind  Month  Day  Year  Temp Weather\n",
       "157   14.0    191.0  14.3    9.0   28  2010    75       S"
      ]
     },
     "execution_count": 14,
     "metadata": {},
     "output_type": "execute_result"
    }
   ],
   "source": [
    "#Print the duplicated rows, Record 151 and 157 are duplicate rows\n",
    "data[data.duplicated()]"
   ]
  },
  {
   "cell_type": "code",
   "execution_count": 15,
   "id": "ee8df0a1",
   "metadata": {
    "scrolled": true
   },
   "outputs": [],
   "source": [
    "data_cleaned1=data.drop_duplicates()"
   ]
  },
  {
   "cell_type": "code",
   "execution_count": 16,
   "id": "e0991995",
   "metadata": {},
   "outputs": [
    {
     "data": {
      "text/plain": [
       "(157, 8)"
      ]
     },
     "execution_count": 16,
     "metadata": {},
     "output_type": "execute_result"
    }
   ],
   "source": [
    "data_cleaned1.shape"
   ]
  },
  {
   "cell_type": "markdown",
   "id": "8f55b53e",
   "metadata": {},
   "source": [
    "# Drop columns"
   ]
  },
  {
   "cell_type": "code",
   "execution_count": null,
   "id": "c1dec751",
   "metadata": {},
   "outputs": [],
   "source": [
    "data"
   ]
  },
  {
   "cell_type": "code",
   "execution_count": null,
   "id": "5f70d731",
   "metadata": {},
   "outputs": [],
   "source": [
    "data_cleaned2=data_cleaned1.drop('Temp C',axis=1)\n"
   ]
  },
  {
   "cell_type": "code",
   "execution_count": null,
   "id": "0237391f",
   "metadata": {},
   "outputs": [],
   "source": [
    "data_cleaned2"
   ]
  },
  {
   "cell_type": "markdown",
   "id": "48cf8702",
   "metadata": {},
   "source": [
    "# Rename the columns"
   ]
  },
  {
   "cell_type": "code",
   "execution_count": null,
   "id": "f87d5354",
   "metadata": {},
   "outputs": [],
   "source": [
    "#rename the Solar column, Pass parameter in dictionary form\n",
    "data_cleaned3 = data_cleaned2.rename({'Solar.R': 'Solar'}, axis=1)"
   ]
  },
  {
   "cell_type": "code",
   "execution_count": null,
   "id": "cc914d95",
   "metadata": {},
   "outputs": [],
   "source": [
    "data_cleaned3"
   ]
  },
  {
   "cell_type": "markdown",
   "id": "33f22dcf",
   "metadata": {},
   "source": [
    "# Outlier Detection"
   ]
  },
  {
   "cell_type": "code",
   "execution_count": null,
   "id": "926f3957",
   "metadata": {},
   "outputs": [],
   "source": [
    "# histogram of Ozone\n",
    "data_cleaned3['Ozone'].hist()"
   ]
  },
  {
   "cell_type": "code",
   "execution_count": null,
   "id": "f43904c0",
   "metadata": {},
   "outputs": [],
   "source": [
    "#Box plot\n",
    "data_box=data_cleaned3.dropna()# data set is: data_box\n",
    "data1_box=data_box.Ozone #in data1_box we are saving ozone column\n",
    "plt.boxplot(data1_box)\n",
    "#plt.show()"
   ]
  },
  {
   "cell_type": "code",
   "execution_count": null,
   "id": "f2dee402",
   "metadata": {},
   "outputs": [],
   "source": [
    "# Extracting outliers\n",
    "box=plt.boxplot(data1_box)      # storing in variable box"
   ]
  },
  {
   "cell_type": "code",
   "execution_count": null,
   "id": "138187f1",
   "metadata": {},
   "outputs": [],
   "source": [
    "box"
   ]
  },
  {
   "cell_type": "code",
   "execution_count": null,
   "id": "ef673cf3",
   "metadata": {},
   "outputs": [],
   "source": [
    "#easiest method to find outlier\n",
    "[item.get_ydata() for item in box['fliers']] #fliers are outliers- it returns exact outlier values "
   ]
  },
  {
   "cell_type": "code",
   "execution_count": null,
   "id": "c036b722",
   "metadata": {},
   "outputs": [],
   "source": [
    "# Step by Step method to find outlier"
   ]
  },
  {
   "cell_type": "code",
   "execution_count": null,
   "id": "ff1c86df",
   "metadata": {},
   "outputs": [],
   "source": [
    "# Calculate the IQR\n",
    "Q1 = data_cleaned3['Ozone'].quantile(0.25)\n",
    "Q3 = data_cleaned3['Ozone'].quantile(0.75)\n",
    "Q1,Q3\n"
   ]
  },
  {
   "cell_type": "code",
   "execution_count": null,
   "id": "dc7aa8ce",
   "metadata": {},
   "outputs": [],
   "source": [
    "IQR = Q3 - Q1\n",
    "IQR"
   ]
  },
  {
   "cell_type": "code",
   "execution_count": null,
   "id": "8678db57",
   "metadata": {},
   "outputs": [],
   "source": [
    "# Define the lower and upper bounds for outliers\n",
    "lower_bound = Q1 - 1.5 * IQR\n",
    "upper_bound = Q3 + 1.5 * IQR\n",
    "lower_bound,upper_bound"
   ]
  },
  {
   "cell_type": "code",
   "execution_count": null,
   "id": "ba80251c",
   "metadata": {},
   "outputs": [],
   "source": [
    "#find outliers\n",
    "outliers=data_cleaned3[(data_cleaned3['Ozone']<lower_bound)| (data_cleaned3['Ozone']>upper_bound)]\n",
    "outliers\n"
   ]
  },
  {
   "cell_type": "code",
   "execution_count": null,
   "id": "e1666c8a",
   "metadata": {},
   "outputs": [],
   "source": [
    "#Descriptive stat\n",
    "data_cleaned3['Ozone'].describe() #describes() tells outlier might be there  and boxplot makes it sure that there are outlires\n"
   ]
  },
  {
   "cell_type": "code",
   "execution_count": null,
   "id": "4c00780c",
   "metadata": {},
   "outputs": [],
   "source": [
    "data_cleaned3"
   ]
  },
  {
   "cell_type": "code",
   "execution_count": null,
   "id": "094524fd",
   "metadata": {},
   "outputs": [],
   "source": [
    "#Bar plot - to identify outliers in categorical data - get count of unique values\n",
    "data['Weather'].value_counts()"
   ]
  },
  {
   "cell_type": "code",
   "execution_count": null,
   "id": "37089470",
   "metadata": {},
   "outputs": [],
   "source": [
    "#Bar plot - to identify outliers in categorical data\n",
    "data['Weather'].value_counts().plot.bar()  #using original data name data"
   ]
  },
  {
   "cell_type": "markdown",
   "id": "877c17e2",
   "metadata": {},
   "source": [
    "# Missing Values and Imputation"
   ]
  },
  {
   "cell_type": "code",
   "execution_count": null,
   "id": "530f6e4b",
   "metadata": {},
   "outputs": [],
   "source": [
    "import seaborn as sns # in seaborn documentation color codes are mentioned\n",
    "cols = data_cleaned3.columns # save column names in cols dataset\n",
    "# colours = ['blue','yellow'] # specify the colours - yellow is missing. blue is not missing.\n",
    "colours=['#000099', '#ffff00']\n",
    "sns.heatmap(data_cleaned3[cols].isnull(),\n",
    "            cmap=sns.color_palette(colours)) # map colors T = Yellow, F = Blue"
   ]
  },
  {
   "cell_type": "code",
   "execution_count": null,
   "id": "7b4172ae",
   "metadata": {},
   "outputs": [],
   "source": [
    "cols"
   ]
  },
  {
   "cell_type": "code",
   "execution_count": null,
   "id": "0b7052d9",
   "metadata": {},
   "outputs": [],
   "source": [
    "data_cleaned3[data_cleaned3.isnull().any(axis=1)].head() # find cloumn wise null values"
   ]
  },
  {
   "cell_type": "code",
   "execution_count": null,
   "id": "a3e19b96",
   "metadata": {},
   "outputs": [],
   "source": [
    "data_cleaned3.isnull().sum()"
   ]
  },
  {
   "cell_type": "code",
   "execution_count": null,
   "id": "cabf0652",
   "metadata": {},
   "outputs": [],
   "source": [
    "data_cleaned3.info()"
   ]
  },
  {
   "cell_type": "code",
   "execution_count": null,
   "id": "f6173c61",
   "metadata": {},
   "outputs": [],
   "source": [
    "#Mean Imputationa for numerical data\n",
    "mean = data_cleaned3['Ozone'].mean()\n",
    "print(mean)"
   ]
  },
  {
   "cell_type": "code",
   "execution_count": null,
   "id": "673feeb1",
   "metadata": {},
   "outputs": [],
   "source": [
    "data_cleaned3['Ozone'] = data_cleaned3['Ozone'].fillna(mean) # use mean of ozone col. to fill na values\n",
    "                                                              # for numerical value we do mean imputartion"
   ]
  },
  {
   "cell_type": "code",
   "execution_count": null,
   "id": "31025d46",
   "metadata": {},
   "outputs": [],
   "source": [
    "data_cleaned3\n"
   ]
  },
  {
   "cell_type": "code",
   "execution_count": null,
   "id": "050d7012",
   "metadata": {},
   "outputs": [],
   "source": [
    "#Missing value imputation for categorical vlaue\n",
    "#Get the object columns\n",
    "obj_columns=data_cleaned3[['Weather']]\n",
    "obj_columns"
   ]
  },
  {
   "cell_type": "code",
   "execution_count": null,
   "id": "086f60a3",
   "metadata": {},
   "outputs": [],
   "source": [
    "obj_columns.isnull().sum()"
   ]
  },
  {
   "cell_type": "code",
   "execution_count": null,
   "id": "e2f9b581",
   "metadata": {},
   "outputs": [],
   "source": []
  },
  {
   "cell_type": "code",
   "execution_count": null,
   "id": "15cb5a87",
   "metadata": {},
   "outputs": [],
   "source": [
    "#Missing value imputation for categorical vlaue\n",
    "obj_columns=obj_columns.fillna(obj_columns.mode().iloc[0]) # for categorical value we do mode imputation"
   ]
  },
  {
   "cell_type": "code",
   "execution_count": null,
   "id": "f0e60a80",
   "metadata": {},
   "outputs": [],
   "source": [
    "obj_columns"
   ]
  },
  {
   "cell_type": "code",
   "execution_count": null,
   "id": "6330fd56",
   "metadata": {},
   "outputs": [],
   "source": [
    "obj_columns.isnull().sum()"
   ]
  },
  {
   "cell_type": "code",
   "execution_count": null,
   "id": "9b890c62",
   "metadata": {},
   "outputs": [],
   "source": [
    "data_cleaned3"
   ]
  },
  {
   "cell_type": "code",
   "execution_count": null,
   "id": "c81b2151",
   "metadata": {},
   "outputs": [],
   "source": [
    "obj_columns.shape"
   ]
  },
  {
   "cell_type": "code",
   "execution_count": null,
   "id": "c2f9176e",
   "metadata": {},
   "outputs": [],
   "source": [
    "data_cleaned4=data_cleaned3.drop(['Weather'],axis=1,inplace=True)\n"
   ]
  },
  {
   "cell_type": "code",
   "execution_count": null,
   "id": "56d0b87a",
   "metadata": {},
   "outputs": [],
   "source": [
    "data_cleaned3"
   ]
  },
  {
   "cell_type": "code",
   "execution_count": null,
   "id": "574ad352",
   "metadata": {},
   "outputs": [],
   "source": [
    "#Join the data set with imputed object dataset\n",
    "data_cleaned4=pd.concat([data_cleaned3,obj_columns],axis=1)"
   ]
  },
  {
   "cell_type": "code",
   "execution_count": null,
   "id": "7a1373b5",
   "metadata": {},
   "outputs": [],
   "source": [
    "data_cleaned4"
   ]
  },
  {
   "cell_type": "code",
   "execution_count": null,
   "id": "f3452506",
   "metadata": {},
   "outputs": [],
   "source": [
    "data_cleaned4.isnull().sum()"
   ]
  },
  {
   "cell_type": "code",
   "execution_count": null,
   "id": "2de7fbdb",
   "metadata": {},
   "outputs": [],
   "source": [
    "data_cleaned4.info()"
   ]
  },
  {
   "cell_type": "code",
   "execution_count": null,
   "id": "2cd28fdb",
   "metadata": {},
   "outputs": [],
   "source": [
    "# mean imputation for solar column\n",
    "mean=data_cleaned4['Solar'].mean()\n",
    "mean"
   ]
  },
  {
   "cell_type": "code",
   "execution_count": null,
   "id": "2bbb6288",
   "metadata": {},
   "outputs": [],
   "source": [
    "data_cleaned4['Solar'] = data_cleaned4['Solar'].fillna(mean)"
   ]
  },
  {
   "cell_type": "code",
   "execution_count": null,
   "id": "3e7af941",
   "metadata": {},
   "outputs": [],
   "source": [
    "data_cleaned4.isnull().sum()"
   ]
  },
  {
   "cell_type": "code",
   "execution_count": null,
   "id": "295f5d50",
   "metadata": {},
   "outputs": [],
   "source": [
    "data_cleaned4.info()"
   ]
  },
  {
   "cell_type": "code",
   "execution_count": null,
   "id": "1de08342",
   "metadata": {},
   "outputs": [],
   "source": [
    "# mean imputation for Month column\n",
    "mean=data_cleaned4['Month'].mean()\n",
    "mean"
   ]
  },
  {
   "cell_type": "code",
   "execution_count": null,
   "id": "c5b93981",
   "metadata": {},
   "outputs": [],
   "source": [
    "data_cleaned4['Month'] = data_cleaned4['Month'].fillna(mean)"
   ]
  },
  {
   "cell_type": "code",
   "execution_count": null,
   "id": "9a536f07",
   "metadata": {},
   "outputs": [],
   "source": [
    "data_cleaned4"
   ]
  },
  {
   "cell_type": "code",
   "execution_count": null,
   "id": "91c16ff9",
   "metadata": {},
   "outputs": [],
   "source": [
    "data_cleaned4.isnull().sum()"
   ]
  },
  {
   "cell_type": "code",
   "execution_count": null,
   "id": "f988e00c",
   "metadata": {},
   "outputs": [],
   "source": [
    "data_cleaned4.info()"
   ]
  },
  {
   "cell_type": "markdown",
   "id": "ce41d3e3",
   "metadata": {},
   "source": [
    "# Scatter plot and Correlation analysis"
   ]
  },
  {
   "cell_type": "code",
   "execution_count": null,
   "id": "b44eda72",
   "metadata": {},
   "outputs": [],
   "source": [
    "# Seaborn visualization library\n",
    "import seaborn as sns\n",
    "# Create the default pairplot\n",
    "#pd.plotting.scatter_matrix(data_cleaned3)\n",
    "sns.pairplot(data_cleaned3) # diagonal - histogram, other - scatter plot"
   ]
  },
  {
   "cell_type": "code",
   "execution_count": null,
   "id": "665f5249",
   "metadata": {},
   "outputs": [],
   "source": [
    "#Correlation\n",
    "data_cleaned3.corr() # corr. between same variables is always 1."
   ]
  },
  {
   "cell_type": "markdown",
   "id": "091dfd8f",
   "metadata": {},
   "source": [
    "# Transformations"
   ]
  },
  {
   "cell_type": "code",
   "execution_count": null,
   "id": "da012e06",
   "metadata": {},
   "outputs": [],
   "source": [
    "data_cleaned4"
   ]
  },
  {
   "cell_type": "code",
   "execution_count": null,
   "id": "af40f1d2",
   "metadata": {},
   "outputs": [],
   "source": [
    "#Creating dummy variable for Weather column\n",
    "data_cleaned4=pd.get_dummies(data,columns=['Weather'])   # here we used original data that is data"
   ]
  },
  {
   "cell_type": "code",
   "execution_count": null,
   "id": "8d467a00",
   "metadata": {},
   "outputs": [],
   "source": [
    "data_cleaned4"
   ]
  },
  {
   "cell_type": "code",
   "execution_count": null,
   "id": "51dc45de",
   "metadata": {},
   "outputs": [],
   "source": [
    "data_cleaned4=data_cleaned4.dropna()"
   ]
  },
  {
   "cell_type": "code",
   "execution_count": null,
   "id": "34636b71",
   "metadata": {},
   "outputs": [],
   "source": [
    "# data_cleaned4"
   ]
  },
  {
   "cell_type": "markdown",
   "id": "46ad3c9d",
   "metadata": {},
   "source": [
    "# Normalization of the data -scaling down data to uniform scle"
   ]
  },
  {
   "cell_type": "code",
   "execution_count": null,
   "id": "f64a74e9",
   "metadata": {},
   "outputs": [],
   "source": [
    "#Normalization of the data\n",
    "from numpy import set_printoptions\n",
    "from sklearn.preprocessing import MinMaxScaler"
   ]
  },
  {
   "cell_type": "code",
   "execution_count": null,
   "id": "17104a71",
   "metadata": {},
   "outputs": [],
   "source": [
    "data_cleaned4.values"
   ]
  },
  {
   "cell_type": "code",
   "execution_count": null,
   "id": "68345f6e",
   "metadata": {},
   "outputs": [],
   "source": [
    "array = data_cleaned4.values\n",
    "\n",
    "scaler = MinMaxScaler(feature_range=(0,1)) # desired range of transformed data 0 to 1\n",
    "rescaledX = scaler.fit_transform(array)# apply normalization on array\n",
    "\n",
    "#transformed data\n",
    "set_printoptions(precision=2)\n",
    "print(rescaledX[0:5,:])"
   ]
  },
  {
   "cell_type": "markdown",
   "id": "1472fc8d",
   "metadata": {},
   "source": [
    "# Standerdization"
   ]
  },
  {
   "cell_type": "code",
   "execution_count": null,
   "id": "c7f085ec",
   "metadata": {},
   "outputs": [],
   "source": [
    "# Standardize data (0 mean, 1 stdev)\n",
    "from sklearn.preprocessing import StandardScaler"
   ]
  },
  {
   "cell_type": "code",
   "execution_count": null,
   "id": "002c06df",
   "metadata": {},
   "outputs": [],
   "source": [
    "array = data_cleaned4.values\n",
    "scaler = StandardScaler()                        # for standardscalar the range is -3 to 3 \n",
    "#scaler.fit(array)                               # standardization is noting  bur z score only ( z = (x-μ)/σ)\n",
    "rescaledX = scaler.fit_transform(array)         #x=observed value ,μ is the population mean ,σ is the population standard deviation\n",
    "\n",
    "# summarize transformed data\n",
    "set_printoptions(precision=2)\n",
    "print(rescaledX[0:5,:])"
   ]
  },
  {
   "cell_type": "markdown",
   "id": "61f99361",
   "metadata": {},
   "source": [
    "# Speed up the EDA process"
   ]
  },
  {
   "cell_type": "code",
   "execution_count": null,
   "id": "e1c1301c",
   "metadata": {},
   "outputs": [],
   "source": [
    "!pip install pandas-profiling\n",
    " "
   ]
  },
  {
   "cell_type": "code",
   "execution_count": null,
   "id": "c7a4216a",
   "metadata": {},
   "outputs": [],
   "source": [
    "!pip install sweetviz"
   ]
  },
  {
   "cell_type": "code",
   "execution_count": null,
   "id": "53a978de",
   "metadata": {},
   "outputs": [],
   "source": [
    "import pandas_profiling as pp\n",
    "import sweetviz as sv\n",
    "import joblib"
   ]
  },
  {
   "cell_type": "code",
   "execution_count": null,
   "id": "ae47afbc",
   "metadata": {},
   "outputs": [],
   "source": [
    "EDA_report= pp.ProfileReport(data,vars={\"num\":{\"low_categorical_threshold\":0}})"
   ]
  },
  {
   "cell_type": "code",
   "execution_count": null,
   "id": "a74b771c",
   "metadata": {},
   "outputs": [],
   "source": [
    "EDA_report"
   ]
  },
  {
   "cell_type": "code",
   "execution_count": null,
   "id": "7105e542",
   "metadata": {},
   "outputs": [],
   "source": [
    "sweet_report = sv.analyze(data)\n",
    "sweet_report.show_html('weather_report.html')"
   ]
  },
  {
   "cell_type": "code",
   "execution_count": null,
   "id": "b98583b4",
   "metadata": {},
   "outputs": [],
   "source": []
  },
  {
   "cell_type": "code",
   "execution_count": null,
   "id": "bd49dd61",
   "metadata": {},
   "outputs": [],
   "source": []
  },
  {
   "cell_type": "code",
   "execution_count": null,
   "id": "99254d1b",
   "metadata": {},
   "outputs": [],
   "source": []
  },
  {
   "cell_type": "code",
   "execution_count": null,
   "id": "f22a0e30",
   "metadata": {},
   "outputs": [],
   "source": []
  },
  {
   "cell_type": "code",
   "execution_count": null,
   "id": "a2d90930",
   "metadata": {},
   "outputs": [],
   "source": []
  },
  {
   "cell_type": "code",
   "execution_count": null,
   "id": "691a132c",
   "metadata": {},
   "outputs": [],
   "source": []
  },
  {
   "cell_type": "code",
   "execution_count": null,
   "id": "066d4877",
   "metadata": {},
   "outputs": [],
   "source": []
  },
  {
   "cell_type": "code",
   "execution_count": null,
   "id": "6f10bcec",
   "metadata": {},
   "outputs": [],
   "source": []
  },
  {
   "cell_type": "markdown",
   "id": "949c7f8e",
   "metadata": {},
   "source": [
    "# EDA (Exploratory Data Analysis)\n",
    "Exploratory Data Analysis (EDA) is an approach to analyze the data using visual techniques and statistical techniques. It is used to discover trends, patterns, or to check assumptions with the help of statistical summary and graphical representations.\n",
    "\n",
    "Steps involved in EDA\n",
    "\n",
    "\n",
    "1.Describing the data\n",
    "\n",
    "2.Data cleaning\n",
    "\n",
    "3.Imputation techniques\n",
    "\n",
    "4.Data analysis and visualization\n",
    "\n",
    "5.Transformations\n",
    "\n",
    "6.Auto EDA"
   ]
  },
  {
   "cell_type": "code",
   "execution_count": null,
   "id": "acb1848a",
   "metadata": {},
   "outputs": [],
   "source": [
    "import pandas as pd\n",
    "import numpy as np\n",
    "import matplotlib.pyplot as plt\n",
    "import seaborn as sns\n",
    "plt.rcParams['figure.figsize'] = (10,5) # width,height  rcparams is fuction where rc is suntime configuration param is parameter\n",
    "plt.rcParams['figure.dpi'] = 300   # clarity of image\n",
    "%matplotlib inline  #  to show graph withjout writting plt.show()\n",
    "import warnings\n",
    "warnings.filterwarnings('ignore')"
   ]
  },
  {
   "cell_type": "code",
   "execution_count": null,
   "id": "a9f90dbc",
   "metadata": {},
   "outputs": [],
   "source": [
    "df = pd.read_csv('C://Users//pawar//Data science//Csv_files//data_clean.csv', index_col=0)\n",
    "df"
   ]
  },
  {
   "cell_type": "code",
   "execution_count": null,
   "id": "593f66de",
   "metadata": {},
   "outputs": [],
   "source": [
    "df.describe()  # to know skwness as mean is greater than median this is positive skwness ,outlier , missing values"
   ]
  },
  {
   "cell_type": "code",
   "execution_count": null,
   "id": "0b6871a4",
   "metadata": {},
   "outputs": [],
   "source": [
    "df.describe(include=object)  # descpriptive stats for categorical data"
   ]
  },
  {
   "cell_type": "code",
   "execution_count": null,
   "id": "6dab3f21",
   "metadata": {},
   "outputs": [],
   "source": [
    "df.dtypes"
   ]
  },
  {
   "cell_type": "code",
   "execution_count": null,
   "id": "df3bcf96",
   "metadata": {},
   "outputs": [],
   "source": [
    "df.info()  # to know null values ,data types ,no.of columns , no.of rows (records)"
   ]
  },
  {
   "cell_type": "markdown",
   "id": "84b6fb1a",
   "metadata": {},
   "source": [
    " * As we can see that,\n",
    "\n",
    "* 'Month' column has all the numeric data still python has shown us that it is object.\n",
    "\n",
    "* We will have to find out the reason and change the data type of the column."
   ]
  },
  {
   "cell_type": "markdown",
   "id": "904fb099",
   "metadata": {},
   "source": [
    "# Data type conversion"
   ]
  },
  {
   "cell_type": "code",
   "execution_count": null,
   "id": "3cd85c65",
   "metadata": {},
   "outputs": [],
   "source": [
    "df['Month']"
   ]
  },
  {
   "cell_type": "code",
   "execution_count": null,
   "id": "63325c22",
   "metadata": {},
   "outputs": [],
   "source": [
    "df['Month'].unique()"
   ]
  },
  {
   "cell_type": "code",
   "execution_count": null,
   "id": "5292e55a",
   "metadata": {},
   "outputs": [],
   "source": [
    "df['Month'].value_counts()"
   ]
  },
  {
   "cell_type": "code",
   "execution_count": null,
   "id": "0b42a961",
   "metadata": {},
   "outputs": [],
   "source": [
    "df['Month'].replace('May','5', inplace=True)  # inplace is use to do permanent change"
   ]
  },
  {
   "cell_type": "code",
   "execution_count": null,
   "id": "61b9a7ea",
   "metadata": {},
   "outputs": [],
   "source": [
    "df['Month'].unique()"
   ]
  },
  {
   "cell_type": "code",
   "execution_count": null,
   "id": "d5702970",
   "metadata": {},
   "outputs": [],
   "source": [
    "df.dtypes\n"
   ]
  },
  {
   "cell_type": "code",
   "execution_count": null,
   "id": "52cfeb78",
   "metadata": {},
   "outputs": [],
   "source": [
    "df.head()"
   ]
  },
  {
   "cell_type": "code",
   "execution_count": null,
   "id": "dddfd444",
   "metadata": {},
   "outputs": [],
   "source": [
    "df['Month'].astype(int)"
   ]
  },
  {
   "cell_type": "code",
   "execution_count": null,
   "id": "719f1c47",
   "metadata": {},
   "outputs": [],
   "source": [
    "df.dtypes"
   ]
  },
  {
   "cell_type": "code",
   "execution_count": null,
   "id": "c1f7bdf5",
   "metadata": {},
   "outputs": [],
   "source": [
    "df['Month'] = df['Month'].astype(int)"
   ]
  },
  {
   "cell_type": "code",
   "execution_count": null,
   "id": "3da680fe",
   "metadata": {},
   "outputs": [],
   "source": [
    "df.dtypes"
   ]
  },
  {
   "cell_type": "code",
   "execution_count": null,
   "id": "510245ca",
   "metadata": {},
   "outputs": [],
   "source": [
    "df['Month'].value_counts()"
   ]
  },
  {
   "cell_type": "code",
   "execution_count": null,
   "id": "c0f4aa58",
   "metadata": {},
   "outputs": [],
   "source": [
    "df.head()"
   ]
  },
  {
   "cell_type": "code",
   "execution_count": null,
   "id": "eb69619d",
   "metadata": {},
   "outputs": [],
   "source": [
    "df['Wind'].replace([7.4,8.0],['A','B'])      # temporary cahnge"
   ]
  },
  {
   "cell_type": "code",
   "execution_count": null,
   "id": "fdab7c71",
   "metadata": {},
   "outputs": [],
   "source": [
    "df.head()"
   ]
  },
  {
   "cell_type": "markdown",
   "id": "ebb93391",
   "metadata": {},
   "source": [
    "# Duplicates"
   ]
  },
  {
   "cell_type": "code",
   "execution_count": null,
   "id": "3c302878",
   "metadata": {},
   "outputs": [],
   "source": [
    "df"
   ]
  },
  {
   "cell_type": "code",
   "execution_count": null,
   "id": "1684019e",
   "metadata": {},
   "outputs": [],
   "source": [
    "df.duplicated()"
   ]
  },
  {
   "cell_type": "code",
   "execution_count": null,
   "id": "dfdd6eef",
   "metadata": {},
   "outputs": [],
   "source": [
    "df.duplicated().sum()"
   ]
  },
  {
   "cell_type": "code",
   "execution_count": null,
   "id": "f0e47ab0",
   "metadata": {},
   "outputs": [],
   "source": [
    "#Print the duplicated values\n",
    "df[df.duplicated()]"
   ]
  },
  {
   "cell_type": "code",
   "execution_count": null,
   "id": "5eeb240f",
   "metadata": {},
   "outputs": [],
   "source": [
    "#df.duplicated(keep = False)"
   ]
  },
  {
   "cell_type": "code",
   "execution_count": null,
   "id": "609edf8a",
   "metadata": {},
   "outputs": [],
   "source": [
    "df[df.duplicated(keep=False)]"
   ]
  },
  {
   "cell_type": "code",
   "execution_count": null,
   "id": "85371e81",
   "metadata": {},
   "outputs": [],
   "source": [
    "#Drop Duplicated records\n",
    "df.drop_duplicates(inplace=True)"
   ]
  },
  {
   "cell_type": "code",
   "execution_count": null,
   "id": "309503a5",
   "metadata": {},
   "outputs": [],
   "source": [
    "df.shape"
   ]
  },
  {
   "cell_type": "code",
   "execution_count": null,
   "id": "95d1d81b",
   "metadata": {},
   "outputs": [],
   "source": [
    "df.duplicated().sum()\n"
   ]
  },
  {
   "cell_type": "markdown",
   "id": "7e389d78",
   "metadata": {},
   "source": [
    "# Drop columns\n",
    "\n",
    "* There is one column which only has single different value.\n",
    "* We need to get rid of all the uneccesary columns or else it will be very complex data.\n"
   ]
  },
  {
   "cell_type": "code",
   "execution_count": null,
   "id": "ffba2412",
   "metadata": {},
   "outputs": [],
   "source": [
    "df.head()"
   ]
  },
  {
   "cell_type": "code",
   "execution_count": null,
   "id": "619f2140",
   "metadata": {},
   "outputs": [],
   "source": [
    "df.drop(columns=['Year'], inplace=True)#this is for column deletion  df.drop(index=[1,3], inplace=True) inplace is use to permanent deletion"
   ]
  },
  {
   "cell_type": "code",
   "execution_count": null,
   "id": "876f75ee",
   "metadata": {},
   "outputs": [],
   "source": [
    "df.head()"
   ]
  },
  {
   "cell_type": "markdown",
   "id": "113ba3c1",
   "metadata": {},
   "source": [
    "# Rename the columns\n"
   ]
  },
  {
   "cell_type": "code",
   "execution_count": null,
   "id": "c9119b28",
   "metadata": {},
   "outputs": [],
   "source": [
    "df.head()"
   ]
  },
  {
   "cell_type": "code",
   "execution_count": null,
   "id": "3fed0c04",
   "metadata": {},
   "outputs": [],
   "source": [
    "df.rename(columns={'Solar.R':'Solar','Temp':'Temperature'},inplace=True)"
   ]
  },
  {
   "cell_type": "code",
   "execution_count": null,
   "id": "240fa28b",
   "metadata": {},
   "outputs": [],
   "source": [
    "df"
   ]
  },
  {
   "cell_type": "markdown",
   "id": "1fcf6578",
   "metadata": {},
   "source": [
    "# Missing value imputation\n",
    "* In dataset, missing data, or missing values, occur when no data value is stored for the variable in an observation.\n",
    "\n",
    "* Missing data are a common occurrence and can have a significant effect on the conclusions that can be drawn from the data.\n",
    "\n",
    "* If we don't impute or handle null values, we will not be able to create a machine learning model as python does not understand \n",
    "   missing values.\n",
    "    \n",
    "* Handling missing values is a crucial step in EDA.\n",
    "\n",
    "* Missing values can appear for several reasons like:\n",
    "    * Incomplete data entry\n",
    "    \n",
    "    * Issues with \n",
    "    \n",
    "    * Improper handling of data\n",
    "    \n",
    "    * And many more."
   ]
  },
  {
   "cell_type": "code",
   "execution_count": null,
   "id": "e5216b3e",
   "metadata": {},
   "outputs": [],
   "source": [
    "df"
   ]
  },
  {
   "cell_type": "code",
   "execution_count": 17,
   "id": "86bab3ad",
   "metadata": {},
   "outputs": [
    {
     "ename": "NameError",
     "evalue": "name 'df' is not defined",
     "output_type": "error",
     "traceback": [
      "\u001b[1;31m---------------------------------------------------------------------------\u001b[0m",
      "\u001b[1;31mNameError\u001b[0m                                 Traceback (most recent call last)",
      "Cell \u001b[1;32mIn[17], line 2\u001b[0m\n\u001b[0;32m      1\u001b[0m \u001b[38;5;66;03m#Checking null values\u001b[39;00m\n\u001b[1;32m----> 2\u001b[0m df\u001b[38;5;241m.\u001b[39misna()\n",
      "\u001b[1;31mNameError\u001b[0m: name 'df' is not defined"
     ]
    }
   ],
   "source": [
    "#Checking null values\n",
    "df.isna() #is.null()"
   ]
  },
  {
   "cell_type": "code",
   "execution_count": 18,
   "id": "009e8172",
   "metadata": {},
   "outputs": [
    {
     "ename": "NameError",
     "evalue": "name 'df' is not defined",
     "output_type": "error",
     "traceback": [
      "\u001b[1;31m---------------------------------------------------------------------------\u001b[0m",
      "\u001b[1;31mNameError\u001b[0m                                 Traceback (most recent call last)",
      "Cell \u001b[1;32mIn[18], line 1\u001b[0m\n\u001b[1;32m----> 1\u001b[0m df\u001b[38;5;241m.\u001b[39misna()\u001b[38;5;241m.\u001b[39msum()\n",
      "\u001b[1;31mNameError\u001b[0m: name 'df' is not defined"
     ]
    }
   ],
   "source": [
    "df.isna().sum()"
   ]
  },
  {
   "cell_type": "code",
   "execution_count": null,
   "id": "70f33b10",
   "metadata": {},
   "outputs": [],
   "source": [
    "df.isnull().sum()"
   ]
  },
  {
   "cell_type": "code",
   "execution_count": null,
   "id": "d86cc05c",
   "metadata": {},
   "outputs": [],
   "source": [
    "#Visualizing missing values\n",
    "sns.heatmap(df.isna())"
   ]
  },
  {
   "cell_type": "code",
   "execution_count": null,
   "id": "7185c262",
   "metadata": {},
   "outputs": [],
   "source": [
    "#Calculate the percentage of missig values in each column.\n",
    "for i in df.isna().sum():\n",
    "    print((i/len(df))*100)"
   ]
  },
  {
   "cell_type": "markdown",
   "id": "b13a3051",
   "metadata": {},
   "source": [
    "# Rule for missing value imputation:\n",
    "\n",
    "1.If NA values are between 1 to 5%, drop na (rows)\n",
    "\n",
    "2.If NA value are 5 to 40%, fillna(replace)\n",
    "\n",
    "3.If NA values are greater than 50% in a column, drop that entire column.\n"
   ]
  },
  {
   "cell_type": "code",
   "execution_count": null,
   "id": "bf0d00b4",
   "metadata": {},
   "outputs": [],
   "source": [
    "df"
   ]
  },
  {
   "cell_type": "code",
   "execution_count": null,
   "id": "11113d46",
   "metadata": {},
   "outputs": [],
   "source": [
    "df.hist()     # to check outlier\n",
    "plt.tight_layout() # it avoid ovelapping of name"
   ]
  },
  {
   "cell_type": "code",
   "execution_count": null,
   "id": "7f32794b",
   "metadata": {},
   "outputs": [],
   "source": [
    "df.boxplot()       # to check outlier"
   ]
  },
  {
   "cell_type": "code",
   "execution_count": null,
   "id": "b32b42ad",
   "metadata": {},
   "outputs": [],
   "source": [
    "ozone_median = df['Ozone'].median()  # if outlier present we use median value to fill NA vale\n",
    "ozone_median"
   ]
  },
  {
   "cell_type": "code",
   "execution_count": null,
   "id": "b5eaca8b",
   "metadata": {},
   "outputs": [],
   "source": [
    "df['Ozone'].fillna(ozone_median, inplace=True)"
   ]
  },
  {
   "cell_type": "code",
   "execution_count": null,
   "id": "dc44844e",
   "metadata": {},
   "outputs": [],
   "source": [
    "df.isna().sum()"
   ]
  },
  {
   "cell_type": "code",
   "execution_count": null,
   "id": "cf5377f8",
   "metadata": {},
   "outputs": [],
   "source": [
    "df['Solar'].mean()"
   ]
  },
  {
   "cell_type": "code",
   "execution_count": null,
   "id": "1d7bd902",
   "metadata": {},
   "outputs": [],
   "source": [
    " df['Solar'].fillna(df['Solar'].mean(), inplace=True)# if outlier is not  present we use mean value to fill NA vale"
   ]
  },
  {
   "cell_type": "code",
   "execution_count": null,
   "id": "3fcfabf1",
   "metadata": {},
   "outputs": [],
   "source": [
    "df.isna().sum()"
   ]
  },
  {
   "cell_type": "code",
   "execution_count": null,
   "id": "9daff72c",
   "metadata": {},
   "outputs": [],
   "source": [
    "df['Weather'].value_counts()"
   ]
  },
  {
   "cell_type": "code",
   "execution_count": null,
   "id": "9ec465f6",
   "metadata": {},
   "outputs": [],
   "source": [
    "df['Weather'].mode()"
   ]
  },
  {
   "cell_type": "code",
   "execution_count": null,
   "id": "4592150d",
   "metadata": {},
   "outputs": [],
   "source": [
    "df['Weather'].mode()[0]"
   ]
  },
  {
   "cell_type": "code",
   "execution_count": null,
   "id": "45181f0c",
   "metadata": {},
   "outputs": [],
   "source": [
    "df['Weather'].fillna(df['Weather'].mode()[0], inplace=True)"
   ]
  },
  {
   "cell_type": "code",
   "execution_count": null,
   "id": "7b1188fa",
   "metadata": {},
   "outputs": [],
   "source": [
    "df.isna().sum()"
   ]
  },
  {
   "cell_type": "markdown",
   "id": "78fcacca",
   "metadata": {},
   "source": [
    "# Outlier detection\n",
    "\n",
    "* There are multiple approaches to detect outliers in the dataset.\n",
    "\n",
    "       * Histogram\n",
    "       \n",
    "       * Boxplot\n",
    "       \n",
    "       * Descriptive stats for df\n"
   ]
  },
  {
   "cell_type": "code",
   "execution_count": null,
   "id": "fd5291ee",
   "metadata": {},
   "outputs": [],
   "source": [
    "df"
   ]
  },
  {
   "cell_type": "code",
   "execution_count": null,
   "id": "81144020",
   "metadata": {},
   "outputs": [],
   "source": [
    "df.describe()"
   ]
  },
  {
   "cell_type": "code",
   "execution_count": null,
   "id": "1cb09128",
   "metadata": {},
   "outputs": [],
   "source": [
    "df.hist()\n",
    "plt.tight_layout()"
   ]
  },
  {
   "cell_type": "code",
   "execution_count": null,
   "id": "78122686",
   "metadata": {},
   "outputs": [],
   "source": [
    "df.boxplot()"
   ]
  },
  {
   "cell_type": "code",
   "execution_count": null,
   "id": "378d413e",
   "metadata": {},
   "outputs": [],
   "source": [
    "sns.boxplot(x = df['Ozone'])"
   ]
  },
  {
   "cell_type": "code",
   "execution_count": null,
   "id": "c80ff5de",
   "metadata": {},
   "outputs": [],
   "source": [
    "def concat(word1,word2):           # Basic Fumction\n",
    "    print(word1+' '+word2)"
   ]
  },
  {
   "cell_type": "code",
   "execution_count": null,
   "id": "3ee5b9e5",
   "metadata": {},
   "outputs": [],
   "source": [
    "concat('python','lecture')"
   ]
  },
  {
   "cell_type": "code",
   "execution_count": null,
   "id": "64c67845",
   "metadata": {},
   "outputs": [],
   "source": [
    "#Outlier detection function\n",
    "def outlier_detection(data,colname):\n",
    "    q1 = data[colname].quantile(0.25)\n",
    "    q3 = data[colname].quantile(0.75)\n",
    "    iqr = q3-q1\n",
    "    \n",
    "    upper = q3+(1.5*iqr)\n",
    "    lower = q1-(1.5*iqr)\n",
    "    \n",
    "    return lower,upper"
   ]
  },
  {
   "cell_type": "code",
   "execution_count": null,
   "id": "dd005619",
   "metadata": {},
   "outputs": [],
   "source": [
    "outlier_detection(df, 'Ozone')       # values less than -15 and grater than 81 are outliers"
   ]
  },
  {
   "cell_type": "code",
   "execution_count": null,
   "id": "7aeca2f3",
   "metadata": {},
   "outputs": [],
   "source": [
    "#outlier_detection(df,df.columns)    # This code will give lower and upper values for all columns axcept categorical column\n",
    "outlier_detection(df, 'Solar')"
   ]
  },
  {
   "cell_type": "code",
   "execution_count": null,
   "id": "cb97e550",
   "metadata": {},
   "outputs": [],
   "source": [
    "import plotly.express as pe  # Extra Part  plotly we use for data extraction"
   ]
  },
  {
   "cell_type": "code",
   "execution_count": null,
   "id": "ed2a1414",
   "metadata": {},
   "outputs": [],
   "source": [
    "#pe.box(df['Temperature'])# Extra Part  keep the poiter anywhere on the boxplot it will tell all values like upper ,lower extreme"
   ]
  },
  {
   "cell_type": "code",
   "execution_count": null,
   "id": "d2892a48",
   "metadata": {},
   "outputs": [],
   "source": [
    "#pe.scatter(x=df['Ozone'],y=df['Temperature'])  #Extra part"
   ]
  },
  {
   "cell_type": "code",
   "execution_count": null,
   "id": "0ec2b69d",
   "metadata": {},
   "outputs": [],
   "source": [
    "df[df['Ozone']>81.0]"
   ]
  },
  {
   "cell_type": "code",
   "execution_count": null,
   "id": "bb8d7a07",
   "metadata": {},
   "outputs": [],
   "source": [
    "len(df[df['Ozone']>81.0])"
   ]
  },
  {
   "cell_type": "code",
   "execution_count": null,
   "id": "a34e4594",
   "metadata": {},
   "outputs": [],
   "source": [
    "df.loc[df['Ozone'] > 81.0,'Ozone']  # loc allows us to put name of the column "
   ]
  },
  {
   "cell_type": "markdown",
   "id": "b3030539",
   "metadata": {},
   "source": [
    "### Capping Outliers\n",
    "\n",
    "* Raplace all outlier values with uppper extreme values so that we need not to remove outlire values"
   ]
  },
  {
   "cell_type": "code",
   "execution_count": null,
   "id": "cdc8cc03",
   "metadata": {},
   "outputs": [],
   "source": [
    "df.loc[df['Ozone']>81.0,'Ozone'] = 81.0"
   ]
  },
  {
   "cell_type": "code",
   "execution_count": null,
   "id": "3d081991",
   "metadata": {
    "scrolled": true
   },
   "outputs": [],
   "source": [
    "df[df['Ozone']==81.0]"
   ]
  },
  {
   "cell_type": "code",
   "execution_count": null,
   "id": "1824ae5c",
   "metadata": {},
   "outputs": [],
   "source": [
    "sns.boxplot(x = df['Ozone'])"
   ]
  },
  {
   "cell_type": "code",
   "execution_count": null,
   "id": "1274c3c0",
   "metadata": {},
   "outputs": [],
   "source": [
    "outlier_detection(df, 'Wind')"
   ]
  },
  {
   "cell_type": "code",
   "execution_count": null,
   "id": "691cacc1",
   "metadata": {},
   "outputs": [],
   "source": [
    "sns.boxplot(x = df['Wind'])"
   ]
  },
  {
   "cell_type": "code",
   "execution_count": null,
   "id": "66ddd866",
   "metadata": {},
   "outputs": [],
   "source": [
    "df[df['Wind'] > 17.65]"
   ]
  },
  {
   "cell_type": "code",
   "execution_count": null,
   "id": "d0455d1e",
   "metadata": {},
   "outputs": [],
   "source": []
  },
  {
   "cell_type": "code",
   "execution_count": null,
   "id": "0c9106e4",
   "metadata": {},
   "outputs": [],
   "source": [
    "# Selecting only normal data points \n",
    "# data = df[df['Wind'] < 17.65]\n",
    "# data "
   ]
  },
  {
   "cell_type": "code",
   "execution_count": null,
   "id": "196ece5f",
   "metadata": {},
   "outputs": [],
   "source": [
    "df.loc[df['Wind']>17.65,'Wind'] = 17.65"
   ]
  },
  {
   "cell_type": "code",
   "execution_count": null,
   "id": "aa80808c",
   "metadata": {},
   "outputs": [],
   "source": [
    "df.boxplot()"
   ]
  },
  {
   "cell_type": "code",
   "execution_count": null,
   "id": "0b41454f",
   "metadata": {},
   "outputs": [],
   "source": [
    "df.shape"
   ]
  },
  {
   "cell_type": "markdown",
   "id": "390dc652",
   "metadata": {},
   "source": [
    "# Scatter Plot and Correlation"
   ]
  },
  {
   "cell_type": "code",
   "execution_count": null,
   "id": "12f0d794",
   "metadata": {},
   "outputs": [],
   "source": [
    "sns.pairplot(df) # to see correlation"
   ]
  },
  {
   "cell_type": "code",
   "execution_count": null,
   "id": "cf496483",
   "metadata": {},
   "outputs": [],
   "source": [
    "#Correlation coefficient\n",
    "df.corr()        #df.corr(numeric_only=True) "
   ]
  },
  {
   "cell_type": "code",
   "execution_count": null,
   "id": "c6746b88",
   "metadata": {},
   "outputs": [],
   "source": [
    "sns.heatmap(df.corr(numeric_only=True),annot=True, cmap='viridis')#the heatmap for large amount of data annot will give values of correlation cmap gives colors"
   ]
  },
  {
   "cell_type": "markdown",
   "id": "34a5fafe",
   "metadata": {},
   "source": [
    "# Transformations\n",
    "\n",
    "* Machines do not understand words and sentences.\n",
    "\n",
    "* Machines only understand numbers.\n",
    "\n",
    "* Before model building, we have convert all the categorical columns into numerical."
   ]
  },
  {
   "cell_type": "code",
   "execution_count": null,
   "id": "b75ee79b",
   "metadata": {},
   "outputs": [],
   "source": [
    "df.head()\n"
   ]
  },
  {
   "cell_type": "code",
   "execution_count": null,
   "id": "e2298f3d",
   "metadata": {},
   "outputs": [],
   "source": [
    "#Encoding using pandas dummy function.One Hot Encoding\n",
    "df = pd.get_dummies(data=df,columns= ['Weather'])"
   ]
  },
  {
   "cell_type": "code",
   "execution_count": null,
   "id": "9f10aa39",
   "metadata": {},
   "outputs": [],
   "source": [
    "df"
   ]
  },
  {
   "cell_type": "markdown",
   "id": "7322a889",
   "metadata": {},
   "source": [
    "# Scaling the data\n",
    "\n",
    "* Normalization\n",
    "  * Scales value within the range of 0 to 1.\n",
    "* Standardization\n",
    "  * Uses Z score for scaling.\n",
    "  * Scale values in such a way that the mean = 0 and standard deviation is 1.\n",
    "  \n",
    "* We can either use  Standardization or Normalization the purpose of these is bring down each and every column to same scale\n",
    "or to avoid biasness in machine learning algorithms\n"
   ]
  },
  {
   "cell_type": "code",
   "execution_count": null,
   "id": "1bc54bc0",
   "metadata": {},
   "outputs": [],
   "source": [
    "from sklearn.preprocessing import StandardScaler,MinMaxScaler"
   ]
  },
  {
   "cell_type": "code",
   "execution_count": null,
   "id": "648c276d",
   "metadata": {},
   "outputs": [],
   "source": [
    "#Standardization           # Formula : z = X – μ / σ\n",
    "sc = StandardScaler() "
   ]
  },
  {
   "cell_type": "code",
   "execution_count": null,
   "id": "d9a7ee9d",
   "metadata": {},
   "outputs": [],
   "source": [
    "df.describe()"
   ]
  },
  {
   "cell_type": "code",
   "execution_count": null,
   "id": "4b721886",
   "metadata": {},
   "outputs": [],
   "source": [
    "df.head(2)"
   ]
  },
  {
   "cell_type": "code",
   "execution_count": null,
   "id": "a2620b6e",
   "metadata": {},
   "outputs": [],
   "source": [
    "sc.fit_transform(df)"
   ]
  },
  {
   "cell_type": "code",
   "execution_count": null,
   "id": "82ccc8d2",
   "metadata": {},
   "outputs": [],
   "source": [
    "df.columns"
   ]
  },
  {
   "cell_type": "code",
   "execution_count": null,
   "id": "d2f54b35",
   "metadata": {},
   "outputs": [],
   "source": [
    "scaled_data = pd.DataFrame(sc.fit_transform(df), columns=df.columns) # converted scaled values into dataframe\n",
    "scaled_data"
   ]
  },
  {
   "cell_type": "code",
   "execution_count": null,
   "id": "96d4b78e",
   "metadata": {},
   "outputs": [],
   "source": [
    "scaled_data.describe()   # now its co,pletely stabdardized data cause mean  is -3.394312e-17 approx (0) and std is 1"
   ]
  },
  {
   "cell_type": "code",
   "execution_count": null,
   "id": "1bb6a053",
   "metadata": {},
   "outputs": [],
   "source": [
    "# Normalization(MinMaxScalar)       # formula : xnormalized = (x - xminimum) / (Xmaximum-Xminimum)\n",
    "mn = MinMaxScaler()"
   ]
  },
  {
   "cell_type": "code",
   "execution_count": null,
   "id": "de0dc189",
   "metadata": {},
   "outputs": [],
   "source": [
    "df.columns"
   ]
  },
  {
   "cell_type": "code",
   "execution_count": null,
   "id": "8fe3f865",
   "metadata": {},
   "outputs": [],
   "source": [
    "minmax_scaled = pd.DataFrame(mn.fit_transform(df), columns=df.columns)\n",
    "minmax_scaled"
   ]
  },
  {
   "cell_type": "code",
   "execution_count": null,
   "id": "337bda60",
   "metadata": {},
   "outputs": [],
   "source": [
    "minmax_scaled.describe()       # In normalization minimum value should be 0 and maximumn value should be 1"
   ]
  },
  {
   "cell_type": "code",
   "execution_count": null,
   "id": "1ebb326f",
   "metadata": {},
   "outputs": [],
   "source": []
  }
 ],
 "metadata": {
  "kernelspec": {
   "display_name": "Python 3 (ipykernel)",
   "language": "python",
   "name": "python3"
  },
  "language_info": {
   "codemirror_mode": {
    "name": "ipython",
    "version": 3
   },
   "file_extension": ".py",
   "mimetype": "text/x-python",
   "name": "python",
   "nbconvert_exporter": "python",
   "pygments_lexer": "ipython3",
   "version": "3.11.4"
  }
 },
 "nbformat": 4,
 "nbformat_minor": 5
}
